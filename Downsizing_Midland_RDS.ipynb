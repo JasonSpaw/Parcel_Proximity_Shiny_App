{
 "cells": [
  {
   "cell_type": "markdown",
   "metadata": {},
   "source": [
    "# Downsizing Midland RDS\n",
    "\n",
    "The both the original shape and RDS files were too large to upload to GitHub.  This notebook is just to split and save the original RDS to two smaller RDS's so they maybe be uploaded to GitHub for others.  The resulting SpatialPolygonsDataFrames from the two split RDS's are just rbind back to the full SpatialPolygonsDataFrame within the shiny app script."
   ]
  },
  {
   "cell_type": "code",
   "execution_count": 1,
   "metadata": {},
   "outputs": [],
   "source": [
    "## Load relevant R packages.\n",
    "inLibraries = list('repr','rgdal','spdep','rgeos', 'sf', 'dplyr', 'tidyr', 'leaflet', 'maptools', 'htmlwidgets', 'RColorBrewer',\n",
    "                   'ggplot2', 'sp', 'maps', 'mapproj', 'mapdata', 'geosphere', 'raster', 'stringr','classInt', 'GISTools',\n",
    "                   'spatstat', 'magrittr')\n",
    "\n",
    "for (rpack in inLibraries) {\n",
    "  if (is.element(rpack,installed.packages()[,1])){\n",
    "      #Load the library into R\n",
    "      suppressMessages(library(rpack,character.only = TRUE))\n",
    "    }\n",
    "    else {\n",
    "        print(paste(\"Warning:  \",rpack,\" is not an installed package\"))\n",
    "    }\n",
    "}\n",
    "\n",
    "## Resize plot area.\n",
    "options(repr.plot.width=6, repr.plot.height=6)"
   ]
  },
  {
   "cell_type": "code",
   "execution_count": 2,
   "metadata": {},
   "outputs": [
    {
     "data": {
      "text/html": [
       "<table>\n",
       "<caption>A data.frame: 6 × 213</caption>\n",
       "<thead>\n",
       "\t<tr><th scope=col>census_blo</th><th scope=col>id</th><th scope=col>geoid</th><th scope=col>sourceagen</th><th scope=col>parcelnumb</th><th scope=col>usecode</th><th scope=col>usedesc</th><th scope=col>zoning</th><th scope=col>zoning_des</th><th scope=col>struct</th><th scope=col>⋯</th><th scope=col>high_student_prog</th><th scope=col>high_equity</th><th scope=col>mean_nb_PropV</th><th scope=col>pct_struct</th><th scope=col>parval_sqft</th><th scope=col>has_struct</th><th scope=col>Group.1</th><th scope=col>maxaddown</th><th scope=col>maxadup</th><th scope=col>dist_shop</th></tr>\n",
       "\t<tr><th scope=col>&lt;dbl&gt;</th><th scope=col>&lt;int&gt;</th><th scope=col>&lt;fct&gt;</th><th scope=col>&lt;fct&gt;</th><th scope=col>&lt;fct&gt;</th><th scope=col>&lt;fct&gt;</th><th scope=col>&lt;fct&gt;</th><th scope=col>&lt;fct&gt;</th><th scope=col>&lt;fct&gt;</th><th scope=col>&lt;int&gt;</th><th scope=col>⋯</th><th scope=col>&lt;dbl&gt;</th><th scope=col>&lt;chr&gt;</th><th scope=col>&lt;dbl&gt;</th><th scope=col>&lt;dbl&gt;</th><th scope=col>&lt;dbl&gt;</th><th scope=col>&lt;dbl&gt;</th><th scope=col>&lt;dbl&gt;</th><th scope=col>&lt;dbl&gt;</th><th scope=col>&lt;dbl&gt;</th><th scope=col>&lt;dbl&gt;</th></tr>\n",
       "</thead>\n",
       "<tbody>\n",
       "\t<tr><td>4.813500e+14</td><td>   1</td><td>48329</td><td>NA</td><td>600000130110</td><td>NA</td><td>NA</td><td>NA</td><td>NA</td><td>NA</td><td>⋯</td><td>9</td><td>10</td><td> 42400.73</td><td>0.0000000</td><td>       NA</td><td>0</td><td>NA</td><td>0</td><td>0</td><td> 144.24158</td></tr>\n",
       "\t<tr><td>4.817395e+14</td><td>2673</td><td>48329</td><td>NA</td><td>036300172000</td><td>NA</td><td>NA</td><td>NA</td><td>NA</td><td>NA</td><td>⋯</td><td>9</td><td>10</td><td> 45473.33</td><td>0.0000000</td><td>2.0620586</td><td>0</td><td>NA</td><td>0</td><td>0</td><td>  46.21117</td></tr>\n",
       "\t<tr><td>4.817395e+14</td><td>3640</td><td>48329</td><td>NA</td><td>NA          </td><td>NA</td><td>NA</td><td>NA</td><td>NA</td><td>NA</td><td>⋯</td><td>9</td><td>10</td><td>261950.00</td><td>0.1898664</td><td>       NA</td><td>1</td><td>NA</td><td>0</td><td>0</td><td> 324.81875</td></tr>\n",
       "\t<tr><td>4.831795e+14</td><td> 479</td><td>48329</td><td>NA</td><td>038100090050</td><td>NA</td><td>NA</td><td>NA</td><td>NA</td><td>NA</td><td>⋯</td><td>9</td><td>10</td><td>114673.89</td><td>0.0000000</td><td>7.2675829</td><td>0</td><td>NA</td><td>0</td><td>0</td><td>  53.18216</td></tr>\n",
       "\t<tr><td>4.831795e+14</td><td>6112</td><td>48329</td><td>NA</td><td>038100090060</td><td>NA</td><td>NA</td><td>NA</td><td>NA</td><td>NA</td><td>⋯</td><td>9</td><td>10</td><td>114556.29</td><td>0.0000000</td><td>0.1164135</td><td>0</td><td>NA</td><td>0</td><td>0</td><td>1485.52636</td></tr>\n",
       "\t<tr><td>4.831795e+14</td><td>8917</td><td>48329</td><td>NA</td><td>038100090050</td><td>NA</td><td>NA</td><td>NA</td><td>NA</td><td>NA</td><td>⋯</td><td>9</td><td>10</td><td> 49207.59</td><td>0.2819637</td><td>8.0830786</td><td>1</td><td>NA</td><td>0</td><td>0</td><td>  84.57822</td></tr>\n",
       "</tbody>\n",
       "</table>\n"
      ],
      "text/latex": [
       "A data.frame: 6 × 213\n",
       "\\begin{tabular}{r|lllllllllllllllllllllllllllllllllllllllllllllllllllllllllllllllllllllllllllllllllllllllllllllllllllllllllllllllllllllllllllllllllllllllllllllllllllllllllllllllllllllllllllllllllllllllllllllllllllllllllllllllllllll}\n",
       " census\\_blo & id & geoid & sourceagen & parcelnumb & usecode & usedesc & zoning & zoning\\_des & struct & multistruc & structno & yearbuilt & numstories & numunits & structstyl & parvaltype & improvval & landval & parval & agval & saleprice & saledate & taxamt & owntype & owner & ownfrst & ownlast & owner2 & owner3 & owner4 & subsurfown & subowntype & mailadd & mail\\_addre & careof & mail\\_addno & mail\\_addpr & mail\\_addst & mail\\_add\\_1 & mail\\_add\\_2 & mail\\_unit & mail\\_city & mail\\_state & mail\\_zip & mail\\_count & mail\\_urban & address & address2 & saddno & saddpref & saddstr & saddsttyp & saddstsuf & sunit & scity & original\\_a & city & county & state2 & szip & urbanizati & location\\_n & address\\_so & legaldesc & plat & book & page & block & lot & neighborho & subdivisio & qoz & qoz\\_tract & census\\_tra & census\\_b\\_1 & sourceref & sourcedate & sourceurl & recrdareat & recrdarean & gisacre & sqft & ll\\_gisacre & ll\\_gissqft & ll\\_bldg\\_fo & ll\\_bldg\\_co & cdl\\_raw & cdl\\_majori & cdl\\_majo\\_1 & cdl\\_date & reviseddat & path & ll\\_stable\\_ & ll\\_uuid & ll\\_updated & dpv\\_status & dpv\\_codes & dpv\\_notes & dpv\\_type & cass\\_error & rdi & usps\\_vacan & usps\\_vac\\_1 & lbcs\\_activ & lbcs\\_act\\_1 & lbcs\\_funct & lbcs\\_fun\\_1 & lbcs\\_struc & lbcs\\_str\\_1 & lbcs\\_site & lbcs\\_site\\_ & lbcs\\_owner & lbcs\\_own\\_1 & mopin\\_plus & sw\\_area & sw\\_tier & comments\\_ & northstari & northstarf & pin\\_1 & subno & prop\\_value & grantee\\_su & pd\\_num & su\\_num & map\\_num & exempt & county\\_lan & short\\_r & geo\\_id & pin\\_2 & lat & lon & taxyear & dist\\_Ag\\_forest & dist\\_Alfalfa & dist\\_Cotton & dist\\_Dev\\_High & dist\\_Dev\\_Low & dist\\_Dev\\_Med & dist\\_Dev\\_OS & dist\\_E\\_Power & dist\\_indust & dist\\_natural\\_gas & dist\\_natural\\_res & dist\\_Other\\_Hay & dist\\_park\\_act & dist\\_Petrochem & dist\\_power & dist\\_rec\\_parks & dist\\_Sorghum & dist\\_Tele\\_Broad & dist\\_telecom & dist\\_Wholesale & dist\\_Winter\\_Wheat & dist\\_Woody\\_Wet & lbcs\\_act\\_1\\_House & lbcs\\_act\\_1\\_Indust & lbcs\\_act\\_1\\_Natural\\_gas & lbcs\\_act\\_1\\_Natural\\_res & lbcs\\_act\\_1\\_none & lbcs\\_act\\_1\\_Power\\_gen & lbcs\\_act\\_1\\_parks\\_act & lbcs\\_act\\_1\\_Shop & lbcs\\_act\\_1\\_Telecom & cdl\\_majori\\_Alfalfa & cdl\\_majori\\_Cotton & cdl\\_majori\\_Dev\\_High & cdl\\_majori\\_Dev\\_Low & cdl\\_majori\\_Dev\\_Med & cdl\\_majori\\_Dev\\_OS & cdl\\_majori\\_none & cdl\\_majori\\_Other\\_Hay & cdl\\_majori\\_Shrubland & cdl\\_majori\\_Sorghum & cdl\\_majori\\_Winter\\_Wheat & cdl\\_majori\\_Woody\\_Wet & lbcs\\_fun\\_1\\_Ag\\_forest & lbcs\\_fun\\_1\\_E\\_power & lbcs\\_fun\\_1\\_Gen\\_serv & lbcs\\_fun\\_1\\_wholesale & lbcs\\_fun\\_1\\_rec\\_parks & lbcs\\_fun\\_1\\_Natural\\_gas & lbcs\\_fun\\_1\\_none & lbcs\\_fun\\_1\\_Pri\\_house & lbcs\\_fun\\_1\\_Tele\\_broad & elem\\_dist & elem\\_School\\_Name & elem\\_rating & elem\\_scores & elem\\_student\\_prog & elem\\_equity & middle\\_dist & middle\\_School\\_Name & middle\\_rating & middle\\_scores & middle\\_student\\_prog & middle\\_equity & high\\_dist & high\\_School\\_Name & high\\_rating & high\\_scores & high\\_student\\_prog & high\\_equity & mean\\_nb\\_PropV & pct\\_struct & parval\\_sqft & has\\_struct & Group.1 & maxaddown & maxadup & dist\\_shop\\\\\n",
       " <dbl> & <int> & <fct> & <fct> & <fct> & <fct> & <fct> & <fct> & <fct> & <int> & <int> & <int> & <int> & <dbl> & <int> & <fct> & <fct> & <dbl> & <dbl> & <dbl> & <dbl> & <dbl> & <fct> & <dbl> & <fct> & <fct> & <fct> & <fct> & <fct> & <fct> & <fct> & <fct> & <fct> & <fct> & <fct> & <fct> & <fct> & <fct> & <fct> & <fct> & <fct> & <fct> & <fct> & <fct> & <fct> & <fct> & <fct> & <fct> & <fct> & <fct> & <fct> & <fct> & <fct> & <fct> & <fct> & <fct> & <fct> & <fct> & <fct> & <fct> & <fct> & <fct> & <fct> & <fct> & <fct> & <fct> & <fct> & <fct> & <fct> & <fct> & <fct> & <fct> & <fct> & <fct> & <fct> & <fct> & <fct> & <fct> & <fct> & <fct> & <dbl> & <dbl> & <dbl> & <dbl> & <dbl> & <dbl> & <int> & <fct> & <fct> & <dbl> & <fct> & <fct> & <fct> & <fct> & <fct> & <fct> & <fct> & <fct> & <fct> & <fct> & <fct> & <fct> & <fct> & <fct> & <dbl> & <fct> & <dbl> & <chr> & <dbl> & <fct> & <dbl> & <fct> & <dbl> & <fct> & <fct> & <fct> & <fct> & <fct> & <fct> & <fct> & <fct> & <fct> & <dbl> & <fct> & <fct> & <fct> & <fct> & <fct> & <fct> & <fct> & <fct> & <fct> & <fct> & <fct> & <fct> & <dbl> & <dbl> & <dbl> & <dbl> & <dbl> & <dbl> & <dbl> & <dbl> & <dbl> & <dbl> & <dbl> & <dbl> & <dbl> & <dbl> & <dbl> & <dbl> & <dbl> & <dbl> & <dbl> & <dbl> & <dbl> & <dbl> & <dbl> & <dbl> & <dbl> & <dbl> & <dbl> & <dbl> & <dbl> & <dbl> & <dbl> & <dbl> & <dbl> & <dbl> & <dbl> & <dbl> & <dbl> & <dbl> & <dbl> & <dbl> & <dbl> & <dbl> & <dbl> & <dbl> & <dbl> & <dbl> & <dbl> & <dbl> & <dbl> & <dbl> & <dbl> & <dbl> & <dbl> & <chr> & <dbl> & <dbl> & <dbl> & <chr> & <dbl> & <chr> & <dbl> & <dbl> & <dbl> & <chr> & <dbl> & <chr> & <dbl> & <dbl> & <dbl> & <chr> & <dbl> & <dbl> & <dbl> & <dbl> & <dbl> & <dbl> & <dbl> & <dbl>\\\\\n",
       "\\hline\n",
       "\t 4.813500e+14 &    1 & 48329 & NA & 600000130110 & NA & NA & NA & NA & NA & NA & NA & NA & NA & NA & NA & PROPERTY & NA & NA &    NA & NA & NA & NA         & NA & NA & NA                        & NA & NA & NA & NA & NA & NA & NA & NA                    & NA & NA & NA & NA & NA & NA & NA & NA & NA             & NA & NA    & NA & NA & NA & NA & NA & NA & NA & NA & NA & NA & NA      & n        & midland       & midland & tx & 79707 & NA & NA & county               & NA                                    & NA & NA & NA & NA & NA   & NA & NA & No & NA & 48135003002 & 481350030021 & NA & NA & NA & NA & NA &    NA &      NA &  0.01062 & 19105 &   NA & 0 & NA                                               & NA        &   NA & NA   & 2020/01/08 & /us/tx/midland/midland/55473       & preserved & 74876702-032f-4c39-a0a1-b8d0b6bf296a & 2022/02/22 & NA & NA & NA & NA & NA & NA & NA & NA & NA & NA & NA & none & NA & NA & NA & NA & NA & NA & NA & NA & NA     & NA & NA & NA & NA           & NA    &    NA & NA & NA & NA & NA  & NA & NA & NA      & NA                & NA           & 32.033696 & -102.287018 & NA &  257.5040 & 47617.87 & 2057.3406 & 11951.211 &  1070.2671 &  6309.156 &  4905.070 & 18808.454 &  762.2357 & 23450.47 &  257.5040 & 44508.288 & 11683.785 & 23450.47 & 18808.454 & 11683.785 & 23140.02 & 13123.527 & 13123.527 &  762.2357 & 39952.76 & 17015.77 & 0 & 0 & 0 & 0 & 1 & 0 & 0 & 0 & 0 & 0 & 0 & 0 & 0 & 0 & 0 & 1 & 0 & 0 & 0 & 0 & 0 & 0 & 0 & 0 & 0 & 0 & 0 & 1 & 0 & 0 &  463.8292 & Carver Center                          & 9 & 10 & 8 & 10 & 10825.8979 & James R Brooks Middle School & 4 & 5 & 5 & 3 & 1526.4239 & Early College High School At Midland College & 10 & 9 & 9 & 10 &  42400.73 & 0.0000000 &        NA & 0 & NA & 0 & 0 &  144.24158\\\\\n",
       "\t 4.817395e+14 & 2673 & 48329 & NA & 036300172000 & NA & NA & NA & NA & NA & NA & NA & NA & NA & NA & NA & PROPERTY &  0 & NA & 17810 & NA & NA & 1901/01/01 & NA & NA & MIDLAND CITY OF           & NA & NA & NA & NA & NA & NA & NA & PO BOX 1152           & NA & NA & NA & NA & NA & NA & NA & NA & MIDLAND        & TX & 79702 & NA & NA & NA & NA & n  & NA & NA & NA & NA & NA & NA      & n; 79706 & midland-south & midland & tx & 79706 & NA & NA & county               & W/2 SEC: 17 BLK: 36-T3S               & NA & NA & NA & 17 & 2000 & NA & NA & No & NA & 48173950100 & 481739501002 & NA & NA & NA & NA & NA & 35.61 & 1551172 & 40.75121 &  8637 &   NA & 0 & {[}{[}152, 97.8{]}, {[}121, 1.1{]}, {[}61, 0.5{]}, {[}195, 0.5{]}{]} & Shrubland & 97.8 & 2020 & 2020/01/08 & /us/tx/midland/midland-south/68114 & NA        & 61094eb2-824c-44ac-ac87-e72750e6f7cc & 2022/02/22 & NA & NA & NA & NA & NA & NA & NA & NA & NA & NA & NA & none & NA & NA & NA & NA & NA & NA & NA & NA & NA     & NA & NA & NA & 036300172000 & 03630 & 17810 & NA & NA & NA & V29 & NA & NA & R1454   & 00003630.017.2000 & 036300172000 & 31.894960 & -101.773562 & NA & 3096.9249 & 20886.27 & 6416.2687 & 25250.153 & 24169.5133 & 18724.913 & 18293.471 & 23688.079 & 4779.8958 & 27551.53 & 3096.9249 &  5230.618 & 29090.154 & 27551.53 & 23688.079 & 29090.154 & 16048.78 & 28980.218 & 28980.218 & 4779.8958 & 15949.67 & 34144.91 & 0 & 0 & 0 & 0 & 1 & 0 & 0 & 0 & 0 & 0 & 0 & 0 & 0 & 0 & 0 & 0 & 0 & 1 & 0 & 0 & 0 & 0 & 0 & 0 & 0 & 0 & 0 & 1 & 0 & 0 &  503.0825 & General Tommy Franks Elementary School & 7 &  7 & 6 & 7  & 10159.7023 & James R Brooks Middle School & 4 & 5 & 5 & 3 & 2313.5915 & Early College High School At Midland College & 10 & 9 & 9 & 10 &  45473.33 & 0.0000000 & 2.0620586 & 0 & NA & 0 & 0 &   46.21117\\\\\n",
       "\t 4.817395e+14 & 3640 & 48329 & NA & NA           & NA & NA & NA & NA & NA & NA & NA & NA & NA & NA & NA & PROPERTY & NA & NA &    NA & NA & NA & NA         & NA & NA & NA                        & NA & NA & NA & NA & NA & NA & NA & NA                    & NA & NA & NA & NA & NA & NA & NA & NA & NA             & NA & NA    & NA & NA & NA & NA & NA & NA & NA & NA & NA & NA & NA      & NA       & midland-south & midland & tx & NA    & NA & NA & county               & NA                                    & NA & NA & NA & NA & NA   & NA & NA & No & NA & 48173950100 & 481739501002 & NA & NA & NA & NA & NA &    NA &      NA & 86.67988 & 16243 & 3084 & 2 & {[}{[}152, 80.2{]}, {[}121, 19.5{]}, {[}4, 0.3{]}{]}             & Shrubland & 80.2 & 2020 & 2020/01/08 & /us/tx/midland/midland-south/68109 & NA        & 016a0c65-8892-453a-ba35-66d1910f52a0 & 2022/02/22 & NA & NA & NA & NA & NA & NA & NA & NA & NA & NA & NA & none & NA & NA & NA & NA & NA & NA & NA & NA & NA     & NA & NA & NA & NA           & NA    &    NA & NA & NA & NA & NA  & NA & NA & NA      & NA                & NA           & 31.863928 & -101.774305 & NA & 4359.1897 & 24319.44 & 9845.6317 & 26608.850 & 22137.9442 & 21474.557 & 21034.698 & 24805.607 & 2316.8412 & 28889.33 & 4359.1897 &  6466.908 & 30358.632 & 28889.33 & 24805.607 & 30358.632 & 19197.82 & 30595.064 & 30595.064 & 2316.8412 & 18906.76 & 35057.13 & 0 & 0 & 0 & 0 & 1 & 0 & 0 & 0 & 0 & 0 & 0 & 0 & 0 & 0 & 0 & 0 & 0 & 1 & 0 & 0 & 0 & 0 & 0 & 0 & 0 & 0 & 0 & 1 & 0 & 0 &  391.8898 & General Tommy Franks Elementary School & 7 &  7 & 6 & 7  &  5660.3912 & James R Brooks Middle School & 4 & 5 & 5 & 3 & 3848.0976 & Early College High School At Midland College & 10 & 9 & 9 & 10 & 261950.00 & 0.1898664 &        NA & 1 & NA & 0 & 0 &  324.81875\\\\\n",
       "\t 4.831795e+14 &  479 & 48329 & NA & 038100090050 & NA & NA & NA & NA & NA & NA & NA & NA & NA & NA & NA & PROPERTY &  0 & NA & 89900 & NA & NA & 2014/12/16 & NA & NA & BRYSON HOY LEE JR         & NA & NA & NA & NA & NA & NA & NA & 6708 N COUNTY RD 1150 & NA & NA & NA & NA & NA & NA & NA & NA & MIDLAND        & TX & 79705 & NA & NA & NA & NA & n  & NA & NA & NA & NA & NA & Midland & n        & midland       & midland & tx & 79782 & NA & NA & county,census\\_places & 8.99 AC OUT OF W/2 SEC: 9 BLK: 38-T1S & NA & NA & NA & 9  & 50   & NA & NA & No & NA & 48317950100 & 483179501001 & NA & NA & NA & NA & NA &  8.99 &  391604 &  5.57723 & 12370 &   NA & 0 & NA                                               & NA        &   NA & NA   & 2021/01/21 & /us/tx/midland/midland/69712       & NA        & ded8b483-156c-430e-a671-156f01ef0247 & 2022/02/22 & NA & NA & NA & NA & NA & NA & NA & NA & NA & NA & NA & none & NA & NA & NA & NA & NA & NA & NA & NA & DNOCHG & NA & NA & NA & 038100090050 & 03810 & 89900 & NA & NA & NA & Q38 & NA & NA & R185415 & 00003810.009.0050 & 038100090050 & 32.087346 & -102.038619 & NA &  430.1516 & 23818.17 &  354.0349 &  5241.344 &   875.2925 &  6568.269 &  1726.899 &  6102.406 &  509.9129 & 11610.15 &  430.1516 & 28052.801 &  5907.177 & 11610.15 &  6102.406 &  5907.177 & 14090.20 &  8630.346 &  8630.346 &  509.9129 & 18236.68 & 15537.71 & 0 & 0 & 0 & 0 & 1 & 0 & 0 & 0 & 0 & 0 & 0 & 0 & 0 & 0 & 0 & 1 & 0 & 0 & 0 & 0 & 0 & 0 & 0 & 0 & 0 & 0 & 0 & 1 & 0 & 0 &  764.9086 & Carver Center                          & 9 & 10 & 8 & 10 &  4343.9085 & James R Brooks Middle School & 4 & 5 & 5 & 3 &  987.5479 & Early College High School At Midland College & 10 & 9 & 9 & 10 & 114673.89 & 0.0000000 & 7.2675829 & 0 & NA & 0 & 0 &   53.18216\\\\\n",
       "\t 4.831795e+14 & 6112 & 48329 & NA & 038100090060 & NA & NA & NA & NA & NA & NA & NA & NA & NA & NA & NA & PROPERTY &  0 & NA &  1510 & NA & NA & 2017/12/08 & NA & NA & NEVILLES CHRISTOPHER CODY & NA & NA & NA & NA & NA & NA & NA & PO BOX 260060         & NA & NA & NA & NA & NA & NA & NA & NA & CORPUS CHRISTI & TX & 78426 & NA & NA & NA & NA & NA & NA & NA & NA & NA & NA & Midland & n        & midland       & midland & tx & 79782 & NA & NA & county,census\\_places & W/2 SEC: 9 BLK: 38-T1S                & NA & NA & NA & 9  & 60   & NA & NA & No & NA & 48317950100 & 483179501001 & NA & NA & NA & NA & NA &  8.83 &  384635 &  5.98278 & 12971 &   NA & 0 & NA                                               & NA        &   NA & NA   & 2020/02/28 & /us/tx/midland/midland/63454       & preserved & c6d46e4a-76d9-4dd2-842e-fc7d2fa1f1c3 & 2022/02/22 & NA & NA & NA & NA & NA & NA & NA & NA & NA & NA & NA & none & NA & NA & NA & NA & NA & NA & NA & NA & DNOCHG & NA & NA & NA & 038100090060 & 03810 &  1510 & NA & NA & NA & Q38 & NA & NA & R211123 & 00003810.009.0060 & 038100090060 & 32.088430 & -102.039031 & NA &  443.3734 & 23858.70 &  230.0450 &  5289.464 &   989.2459 &  6693.165 &  1853.265 &  6221.013 &  636.2618 & 11727.87 &  443.3734 & 28169.296 &  5994.210 & 11727.87 &  6221.013 &  5994.210 & 14204.69 &  8745.645 &  8745.645 &  636.2618 & 18324.02 & 15620.26 & 0 & 0 & 0 & 0 & 1 & 0 & 0 & 0 & 0 & 0 & 0 & 0 & 0 & 0 & 0 & 1 & 0 & 0 & 0 & 0 & 0 & 0 & 0 & 0 & 0 & 0 & 0 & 1 & 0 & 0 & 1026.3965 & Greathouse Elementary School           & 6 &  6 & 7 & 5  &  2519.9887 & Goddard J High School        & 4 & 4 & 4 & 3 & 1871.7905 & Early College High School At Midland College & 10 & 9 & 9 & 10 & 114556.29 & 0.0000000 & 0.1164135 & 0 & NA & 0 & 0 & 1485.52636\\\\\n",
       "\t 4.831795e+14 & 8917 & 48329 & NA & 038100090050 & NA & NA & NA & NA & NA & NA & NA & NA & NA & NA & NA & PROPERTY &  0 & NA & 89900 & NA & NA & 2014/12/16 & NA & NA & BRYSON HOY LEE JR         & NA & NA & NA & NA & NA & NA & NA & 6708 N COUNTY RD 1150 & NA & NA & NA & NA & NA & NA & NA & NA & MIDLAND        & TX & 79705 & NA & NA & NA & NA & n  & NA & NA & NA & NA & NA & Midland & n        & midland       & midland & tx & 79782 & NA & NA & county,census\\_places & 8.99 AC OUT OF W/2 SEC: 9 BLK: 38-T1S & NA & NA & NA & 9  & 50   & NA & NA & No & NA & 48317950100 & 483179501001 & NA & NA & NA & NA & NA &  8.99 &  391604 &  5.00806 & 11122 & 3136 & 3 & NA                                               & NA        &   NA & NA   & 2020/02/28 & /us/tx/midland/midland/70203       & NA        & 4f6539b2-64f5-4911-8e1f-71193cfb4238 & 2022/02/22 & NA & NA & NA & NA & NA & NA & NA & NA & NA & NA & NA & none & NA & NA & NA & NA & NA & NA & NA & NA & DNOCHG & NA & NA & NA & 038100090050 & 03810 & 89900 & NA & NA & NA & Q38 & NA & NA & R185415 & 00003810.009.0050 & 038100090050 & 32.089430 & -102.038843 & NA &  524.1963 & 23842.97 &  123.4871 &  5375.972 &  1101.2981 &  6784.555 &  1954.339 &  6298.016 &  737.1677 & 11839.49 &  524.1963 & 28241.845 &  6100.412 & 11839.49 &  6298.016 &  6100.412 & 14316.81 &  8857.684 &  8857.684 &  737.1677 & 18356.79 & 15724.35 & 0 & 0 & 0 & 0 & 1 & 0 & 0 & 0 & 0 & 0 & 0 & 0 & 0 & 0 & 0 & 1 & 0 & 0 & 0 & 0 & 0 & 0 & 0 & 0 & 0 & 0 & 0 & 1 & 0 & 0 &  762.4150 & James Bowie Fine Arts Academy          & 5 &  6 & 4 & 5  &   536.8111 & Goddard J High School        & 4 & 4 & 4 & 3 & 1174.9803 & Early College High School At Midland College & 10 & 9 & 9 & 10 &  49207.59 & 0.2819637 & 8.0830786 & 1 & NA & 0 & 0 &   84.57822\\\\\n",
       "\\end{tabular}\n"
      ],
      "text/markdown": [
       "\n",
       "A data.frame: 6 × 213\n",
       "\n",
       "| census_blo &lt;dbl&gt; | id &lt;int&gt; | geoid &lt;fct&gt; | sourceagen &lt;fct&gt; | parcelnumb &lt;fct&gt; | usecode &lt;fct&gt; | usedesc &lt;fct&gt; | zoning &lt;fct&gt; | zoning_des &lt;fct&gt; | struct &lt;int&gt; | ⋯ ⋯ | high_student_prog &lt;dbl&gt; | high_equity &lt;chr&gt; | mean_nb_PropV &lt;dbl&gt; | pct_struct &lt;dbl&gt; | parval_sqft &lt;dbl&gt; | has_struct &lt;dbl&gt; | Group.1 &lt;dbl&gt; | maxaddown &lt;dbl&gt; | maxadup &lt;dbl&gt; | dist_shop &lt;dbl&gt; |\n",
       "|---|---|---|---|---|---|---|---|---|---|---|---|---|---|---|---|---|---|---|---|---|\n",
       "| 4.813500e+14 |    1 | 48329 | NA | 600000130110 | NA | NA | NA | NA | NA | ⋯ | 9 | 10 |  42400.73 | 0.0000000 |        NA | 0 | NA | 0 | 0 |  144.24158 |\n",
       "| 4.817395e+14 | 2673 | 48329 | NA | 036300172000 | NA | NA | NA | NA | NA | ⋯ | 9 | 10 |  45473.33 | 0.0000000 | 2.0620586 | 0 | NA | 0 | 0 |   46.21117 |\n",
       "| 4.817395e+14 | 3640 | 48329 | NA | NA           | NA | NA | NA | NA | NA | ⋯ | 9 | 10 | 261950.00 | 0.1898664 |        NA | 1 | NA | 0 | 0 |  324.81875 |\n",
       "| 4.831795e+14 |  479 | 48329 | NA | 038100090050 | NA | NA | NA | NA | NA | ⋯ | 9 | 10 | 114673.89 | 0.0000000 | 7.2675829 | 0 | NA | 0 | 0 |   53.18216 |\n",
       "| 4.831795e+14 | 6112 | 48329 | NA | 038100090060 | NA | NA | NA | NA | NA | ⋯ | 9 | 10 | 114556.29 | 0.0000000 | 0.1164135 | 0 | NA | 0 | 0 | 1485.52636 |\n",
       "| 4.831795e+14 | 8917 | 48329 | NA | 038100090050 | NA | NA | NA | NA | NA | ⋯ | 9 | 10 |  49207.59 | 0.2819637 | 8.0830786 | 1 | NA | 0 | 0 |   84.57822 |\n",
       "\n"
      ],
      "text/plain": [
       "  census_blo   id   geoid sourceagen parcelnumb   usecode usedesc zoning\n",
       "1 4.813500e+14    1 48329 NA         600000130110 NA      NA      NA    \n",
       "2 4.817395e+14 2673 48329 NA         036300172000 NA      NA      NA    \n",
       "3 4.817395e+14 3640 48329 NA         NA           NA      NA      NA    \n",
       "4 4.831795e+14  479 48329 NA         038100090050 NA      NA      NA    \n",
       "5 4.831795e+14 6112 48329 NA         038100090060 NA      NA      NA    \n",
       "6 4.831795e+14 8917 48329 NA         038100090050 NA      NA      NA    \n",
       "  zoning_des struct ⋯ high_student_prog high_equity mean_nb_PropV pct_struct\n",
       "1 NA         NA     ⋯ 9                 10           42400.73     0.0000000 \n",
       "2 NA         NA     ⋯ 9                 10           45473.33     0.0000000 \n",
       "3 NA         NA     ⋯ 9                 10          261950.00     0.1898664 \n",
       "4 NA         NA     ⋯ 9                 10          114673.89     0.0000000 \n",
       "5 NA         NA     ⋯ 9                 10          114556.29     0.0000000 \n",
       "6 NA         NA     ⋯ 9                 10           49207.59     0.2819637 \n",
       "  parval_sqft has_struct Group.1 maxaddown maxadup dist_shop \n",
       "1        NA   0          NA      0         0        144.24158\n",
       "2 2.0620586   0          NA      0         0         46.21117\n",
       "3        NA   1          NA      0         0        324.81875\n",
       "4 7.2675829   0          NA      0         0         53.18216\n",
       "5 0.1164135   0          NA      0         0       1485.52636\n",
       "6 8.0830786   1          NA      0         0         84.57822"
      ]
     },
     "metadata": {},
     "output_type": "display_data"
    }
   ],
   "source": [
    "mid_parcel <- readRDS (\"mid_parcel_combined_rds2\")\n",
    "head(mid_parcel)"
   ]
  },
  {
   "cell_type": "code",
   "execution_count": 3,
   "metadata": {},
   "outputs": [
    {
     "data": {
      "text/html": [
       "69420"
      ],
      "text/latex": [
       "69420"
      ],
      "text/markdown": [
       "69420"
      ],
      "text/plain": [
       "[1] 69420"
      ]
     },
     "metadata": {},
     "output_type": "display_data"
    }
   ],
   "source": [
    "length(mid_parcel)"
   ]
  },
  {
   "cell_type": "code",
   "execution_count": 4,
   "metadata": {},
   "outputs": [
    {
     "data": {
      "text/html": [
       "34710"
      ],
      "text/latex": [
       "34710"
      ],
      "text/markdown": [
       "34710"
      ],
      "text/plain": [
       "[1] 34710"
      ]
     },
     "metadata": {},
     "output_type": "display_data"
    }
   ],
   "source": [
    "69420/2"
   ]
  },
  {
   "cell_type": "code",
   "execution_count": 7,
   "metadata": {},
   "outputs": [
    {
     "data": {
      "text/html": [
       "34710"
      ],
      "text/latex": [
       "34710"
      ],
      "text/markdown": [
       "34710"
      ],
      "text/plain": [
       "[1] 34710"
      ]
     },
     "metadata": {},
     "output_type": "display_data"
    }
   ],
   "source": [
    "length(mid_parcel[1:34710,])"
   ]
  },
  {
   "cell_type": "code",
   "execution_count": 11,
   "metadata": {},
   "outputs": [],
   "source": [
    "saveRDS(mid_parcel[1:34710,],\"mid_parcel_rds1\")\n",
    "saveRDS(mid_parcel[34711:69420,],\"mid_parcel_rds2\")"
   ]
  },
  {
   "cell_type": "code",
   "execution_count": 12,
   "metadata": {},
   "outputs": [
    {
     "data": {
      "text/html": [
       "<table>\n",
       "<caption>A data.frame: 6 × 213</caption>\n",
       "<thead>\n",
       "\t<tr><th scope=col>census_blo</th><th scope=col>id</th><th scope=col>geoid</th><th scope=col>sourceagen</th><th scope=col>parcelnumb</th><th scope=col>usecode</th><th scope=col>usedesc</th><th scope=col>zoning</th><th scope=col>zoning_des</th><th scope=col>struct</th><th scope=col>⋯</th><th scope=col>high_student_prog</th><th scope=col>high_equity</th><th scope=col>mean_nb_PropV</th><th scope=col>pct_struct</th><th scope=col>parval_sqft</th><th scope=col>has_struct</th><th scope=col>Group.1</th><th scope=col>maxaddown</th><th scope=col>maxadup</th><th scope=col>dist_shop</th></tr>\n",
       "\t<tr><th scope=col>&lt;dbl&gt;</th><th scope=col>&lt;int&gt;</th><th scope=col>&lt;fct&gt;</th><th scope=col>&lt;fct&gt;</th><th scope=col>&lt;fct&gt;</th><th scope=col>&lt;fct&gt;</th><th scope=col>&lt;fct&gt;</th><th scope=col>&lt;fct&gt;</th><th scope=col>&lt;fct&gt;</th><th scope=col>&lt;int&gt;</th><th scope=col>⋯</th><th scope=col>&lt;dbl&gt;</th><th scope=col>&lt;chr&gt;</th><th scope=col>&lt;dbl&gt;</th><th scope=col>&lt;dbl&gt;</th><th scope=col>&lt;dbl&gt;</th><th scope=col>&lt;dbl&gt;</th><th scope=col>&lt;dbl&gt;</th><th scope=col>&lt;dbl&gt;</th><th scope=col>&lt;dbl&gt;</th><th scope=col>&lt;dbl&gt;</th></tr>\n",
       "</thead>\n",
       "<tbody>\n",
       "\t<tr><td>4.813500e+14</td><td>   1</td><td>48329</td><td>NA</td><td>600000130110</td><td>NA</td><td>NA</td><td>NA</td><td>NA</td><td>NA</td><td>⋯</td><td>9</td><td>10</td><td> 42400.73</td><td>0.0000000</td><td>       NA</td><td>0</td><td>NA</td><td>0</td><td>0</td><td> 144.24158</td></tr>\n",
       "\t<tr><td>4.817395e+14</td><td>2673</td><td>48329</td><td>NA</td><td>036300172000</td><td>NA</td><td>NA</td><td>NA</td><td>NA</td><td>NA</td><td>⋯</td><td>9</td><td>10</td><td> 45473.33</td><td>0.0000000</td><td>2.0620586</td><td>0</td><td>NA</td><td>0</td><td>0</td><td>  46.21117</td></tr>\n",
       "\t<tr><td>4.817395e+14</td><td>3640</td><td>48329</td><td>NA</td><td>NA          </td><td>NA</td><td>NA</td><td>NA</td><td>NA</td><td>NA</td><td>⋯</td><td>9</td><td>10</td><td>261950.00</td><td>0.1898664</td><td>       NA</td><td>1</td><td>NA</td><td>0</td><td>0</td><td> 324.81875</td></tr>\n",
       "\t<tr><td>4.831795e+14</td><td> 479</td><td>48329</td><td>NA</td><td>038100090050</td><td>NA</td><td>NA</td><td>NA</td><td>NA</td><td>NA</td><td>⋯</td><td>9</td><td>10</td><td>114673.89</td><td>0.0000000</td><td>7.2675829</td><td>0</td><td>NA</td><td>0</td><td>0</td><td>  53.18216</td></tr>\n",
       "\t<tr><td>4.831795e+14</td><td>6112</td><td>48329</td><td>NA</td><td>038100090060</td><td>NA</td><td>NA</td><td>NA</td><td>NA</td><td>NA</td><td>⋯</td><td>9</td><td>10</td><td>114556.29</td><td>0.0000000</td><td>0.1164135</td><td>0</td><td>NA</td><td>0</td><td>0</td><td>1485.52636</td></tr>\n",
       "\t<tr><td>4.831795e+14</td><td>8917</td><td>48329</td><td>NA</td><td>038100090050</td><td>NA</td><td>NA</td><td>NA</td><td>NA</td><td>NA</td><td>⋯</td><td>9</td><td>10</td><td> 49207.59</td><td>0.2819637</td><td>8.0830786</td><td>1</td><td>NA</td><td>0</td><td>0</td><td>  84.57822</td></tr>\n",
       "</tbody>\n",
       "</table>\n"
      ],
      "text/latex": [
       "A data.frame: 6 × 213\n",
       "\\begin{tabular}{r|lllllllllllllllllllllllllllllllllllllllllllllllllllllllllllllllllllllllllllllllllllllllllllllllllllllllllllllllllllllllllllllllllllllllllllllllllllllllllllllllllllllllllllllllllllllllllllllllllllllllllllllllllllll}\n",
       " census\\_blo & id & geoid & sourceagen & parcelnumb & usecode & usedesc & zoning & zoning\\_des & struct & multistruc & structno & yearbuilt & numstories & numunits & structstyl & parvaltype & improvval & landval & parval & agval & saleprice & saledate & taxamt & owntype & owner & ownfrst & ownlast & owner2 & owner3 & owner4 & subsurfown & subowntype & mailadd & mail\\_addre & careof & mail\\_addno & mail\\_addpr & mail\\_addst & mail\\_add\\_1 & mail\\_add\\_2 & mail\\_unit & mail\\_city & mail\\_state & mail\\_zip & mail\\_count & mail\\_urban & address & address2 & saddno & saddpref & saddstr & saddsttyp & saddstsuf & sunit & scity & original\\_a & city & county & state2 & szip & urbanizati & location\\_n & address\\_so & legaldesc & plat & book & page & block & lot & neighborho & subdivisio & qoz & qoz\\_tract & census\\_tra & census\\_b\\_1 & sourceref & sourcedate & sourceurl & recrdareat & recrdarean & gisacre & sqft & ll\\_gisacre & ll\\_gissqft & ll\\_bldg\\_fo & ll\\_bldg\\_co & cdl\\_raw & cdl\\_majori & cdl\\_majo\\_1 & cdl\\_date & reviseddat & path & ll\\_stable\\_ & ll\\_uuid & ll\\_updated & dpv\\_status & dpv\\_codes & dpv\\_notes & dpv\\_type & cass\\_error & rdi & usps\\_vacan & usps\\_vac\\_1 & lbcs\\_activ & lbcs\\_act\\_1 & lbcs\\_funct & lbcs\\_fun\\_1 & lbcs\\_struc & lbcs\\_str\\_1 & lbcs\\_site & lbcs\\_site\\_ & lbcs\\_owner & lbcs\\_own\\_1 & mopin\\_plus & sw\\_area & sw\\_tier & comments\\_ & northstari & northstarf & pin\\_1 & subno & prop\\_value & grantee\\_su & pd\\_num & su\\_num & map\\_num & exempt & county\\_lan & short\\_r & geo\\_id & pin\\_2 & lat & lon & taxyear & dist\\_Ag\\_forest & dist\\_Alfalfa & dist\\_Cotton & dist\\_Dev\\_High & dist\\_Dev\\_Low & dist\\_Dev\\_Med & dist\\_Dev\\_OS & dist\\_E\\_Power & dist\\_indust & dist\\_natural\\_gas & dist\\_natural\\_res & dist\\_Other\\_Hay & dist\\_park\\_act & dist\\_Petrochem & dist\\_power & dist\\_rec\\_parks & dist\\_Sorghum & dist\\_Tele\\_Broad & dist\\_telecom & dist\\_Wholesale & dist\\_Winter\\_Wheat & dist\\_Woody\\_Wet & lbcs\\_act\\_1\\_House & lbcs\\_act\\_1\\_Indust & lbcs\\_act\\_1\\_Natural\\_gas & lbcs\\_act\\_1\\_Natural\\_res & lbcs\\_act\\_1\\_none & lbcs\\_act\\_1\\_Power\\_gen & lbcs\\_act\\_1\\_parks\\_act & lbcs\\_act\\_1\\_Shop & lbcs\\_act\\_1\\_Telecom & cdl\\_majori\\_Alfalfa & cdl\\_majori\\_Cotton & cdl\\_majori\\_Dev\\_High & cdl\\_majori\\_Dev\\_Low & cdl\\_majori\\_Dev\\_Med & cdl\\_majori\\_Dev\\_OS & cdl\\_majori\\_none & cdl\\_majori\\_Other\\_Hay & cdl\\_majori\\_Shrubland & cdl\\_majori\\_Sorghum & cdl\\_majori\\_Winter\\_Wheat & cdl\\_majori\\_Woody\\_Wet & lbcs\\_fun\\_1\\_Ag\\_forest & lbcs\\_fun\\_1\\_E\\_power & lbcs\\_fun\\_1\\_Gen\\_serv & lbcs\\_fun\\_1\\_wholesale & lbcs\\_fun\\_1\\_rec\\_parks & lbcs\\_fun\\_1\\_Natural\\_gas & lbcs\\_fun\\_1\\_none & lbcs\\_fun\\_1\\_Pri\\_house & lbcs\\_fun\\_1\\_Tele\\_broad & elem\\_dist & elem\\_School\\_Name & elem\\_rating & elem\\_scores & elem\\_student\\_prog & elem\\_equity & middle\\_dist & middle\\_School\\_Name & middle\\_rating & middle\\_scores & middle\\_student\\_prog & middle\\_equity & high\\_dist & high\\_School\\_Name & high\\_rating & high\\_scores & high\\_student\\_prog & high\\_equity & mean\\_nb\\_PropV & pct\\_struct & parval\\_sqft & has\\_struct & Group.1 & maxaddown & maxadup & dist\\_shop\\\\\n",
       " <dbl> & <int> & <fct> & <fct> & <fct> & <fct> & <fct> & <fct> & <fct> & <int> & <int> & <int> & <int> & <dbl> & <int> & <fct> & <fct> & <dbl> & <dbl> & <dbl> & <dbl> & <dbl> & <fct> & <dbl> & <fct> & <fct> & <fct> & <fct> & <fct> & <fct> & <fct> & <fct> & <fct> & <fct> & <fct> & <fct> & <fct> & <fct> & <fct> & <fct> & <fct> & <fct> & <fct> & <fct> & <fct> & <fct> & <fct> & <fct> & <fct> & <fct> & <fct> & <fct> & <fct> & <fct> & <fct> & <fct> & <fct> & <fct> & <fct> & <fct> & <fct> & <fct> & <fct> & <fct> & <fct> & <fct> & <fct> & <fct> & <fct> & <fct> & <fct> & <fct> & <fct> & <fct> & <fct> & <fct> & <fct> & <fct> & <fct> & <fct> & <dbl> & <dbl> & <dbl> & <dbl> & <dbl> & <dbl> & <int> & <fct> & <fct> & <dbl> & <fct> & <fct> & <fct> & <fct> & <fct> & <fct> & <fct> & <fct> & <fct> & <fct> & <fct> & <fct> & <fct> & <fct> & <dbl> & <fct> & <dbl> & <chr> & <dbl> & <fct> & <dbl> & <fct> & <dbl> & <fct> & <fct> & <fct> & <fct> & <fct> & <fct> & <fct> & <fct> & <fct> & <dbl> & <fct> & <fct> & <fct> & <fct> & <fct> & <fct> & <fct> & <fct> & <fct> & <fct> & <fct> & <fct> & <dbl> & <dbl> & <dbl> & <dbl> & <dbl> & <dbl> & <dbl> & <dbl> & <dbl> & <dbl> & <dbl> & <dbl> & <dbl> & <dbl> & <dbl> & <dbl> & <dbl> & <dbl> & <dbl> & <dbl> & <dbl> & <dbl> & <dbl> & <dbl> & <dbl> & <dbl> & <dbl> & <dbl> & <dbl> & <dbl> & <dbl> & <dbl> & <dbl> & <dbl> & <dbl> & <dbl> & <dbl> & <dbl> & <dbl> & <dbl> & <dbl> & <dbl> & <dbl> & <dbl> & <dbl> & <dbl> & <dbl> & <dbl> & <dbl> & <dbl> & <dbl> & <dbl> & <dbl> & <chr> & <dbl> & <dbl> & <dbl> & <chr> & <dbl> & <chr> & <dbl> & <dbl> & <dbl> & <chr> & <dbl> & <chr> & <dbl> & <dbl> & <dbl> & <chr> & <dbl> & <dbl> & <dbl> & <dbl> & <dbl> & <dbl> & <dbl> & <dbl>\\\\\n",
       "\\hline\n",
       "\t 4.813500e+14 &    1 & 48329 & NA & 600000130110 & NA & NA & NA & NA & NA & NA & NA & NA & NA & NA & NA & PROPERTY & NA & NA &    NA & NA & NA & NA         & NA & NA & NA                        & NA & NA & NA & NA & NA & NA & NA & NA                    & NA & NA & NA & NA & NA & NA & NA & NA & NA             & NA & NA    & NA & NA & NA & NA & NA & NA & NA & NA & NA & NA & NA      & n        & midland       & midland & tx & 79707 & NA & NA & county               & NA                                    & NA & NA & NA & NA & NA   & NA & NA & No & NA & 48135003002 & 481350030021 & NA & NA & NA & NA & NA &    NA &      NA &  0.01062 & 19105 &   NA & 0 & NA                                               & NA        &   NA & NA   & 2020/01/08 & /us/tx/midland/midland/55473       & preserved & 74876702-032f-4c39-a0a1-b8d0b6bf296a & 2022/02/22 & NA & NA & NA & NA & NA & NA & NA & NA & NA & NA & NA & none & NA & NA & NA & NA & NA & NA & NA & NA & NA     & NA & NA & NA & NA           & NA    &    NA & NA & NA & NA & NA  & NA & NA & NA      & NA                & NA           & 32.033696 & -102.287018 & NA &  257.5040 & 47617.87 & 2057.3406 & 11951.211 &  1070.2671 &  6309.156 &  4905.070 & 18808.454 &  762.2357 & 23450.47 &  257.5040 & 44508.288 & 11683.785 & 23450.47 & 18808.454 & 11683.785 & 23140.02 & 13123.527 & 13123.527 &  762.2357 & 39952.76 & 17015.77 & 0 & 0 & 0 & 0 & 1 & 0 & 0 & 0 & 0 & 0 & 0 & 0 & 0 & 0 & 0 & 1 & 0 & 0 & 0 & 0 & 0 & 0 & 0 & 0 & 0 & 0 & 0 & 1 & 0 & 0 &  463.8292 & Carver Center                          & 9 & 10 & 8 & 10 & 10825.8979 & James R Brooks Middle School & 4 & 5 & 5 & 3 & 1526.4239 & Early College High School At Midland College & 10 & 9 & 9 & 10 &  42400.73 & 0.0000000 &        NA & 0 & NA & 0 & 0 &  144.24158\\\\\n",
       "\t 4.817395e+14 & 2673 & 48329 & NA & 036300172000 & NA & NA & NA & NA & NA & NA & NA & NA & NA & NA & NA & PROPERTY &  0 & NA & 17810 & NA & NA & 1901/01/01 & NA & NA & MIDLAND CITY OF           & NA & NA & NA & NA & NA & NA & NA & PO BOX 1152           & NA & NA & NA & NA & NA & NA & NA & NA & MIDLAND        & TX & 79702 & NA & NA & NA & NA & n  & NA & NA & NA & NA & NA & NA      & n; 79706 & midland-south & midland & tx & 79706 & NA & NA & county               & W/2 SEC: 17 BLK: 36-T3S               & NA & NA & NA & 17 & 2000 & NA & NA & No & NA & 48173950100 & 481739501002 & NA & NA & NA & NA & NA & 35.61 & 1551172 & 40.75121 &  8637 &   NA & 0 & {[}{[}152, 97.8{]}, {[}121, 1.1{]}, {[}61, 0.5{]}, {[}195, 0.5{]}{]} & Shrubland & 97.8 & 2020 & 2020/01/08 & /us/tx/midland/midland-south/68114 & NA        & 61094eb2-824c-44ac-ac87-e72750e6f7cc & 2022/02/22 & NA & NA & NA & NA & NA & NA & NA & NA & NA & NA & NA & none & NA & NA & NA & NA & NA & NA & NA & NA & NA     & NA & NA & NA & 036300172000 & 03630 & 17810 & NA & NA & NA & V29 & NA & NA & R1454   & 00003630.017.2000 & 036300172000 & 31.894960 & -101.773562 & NA & 3096.9249 & 20886.27 & 6416.2687 & 25250.153 & 24169.5133 & 18724.913 & 18293.471 & 23688.079 & 4779.8958 & 27551.53 & 3096.9249 &  5230.618 & 29090.154 & 27551.53 & 23688.079 & 29090.154 & 16048.78 & 28980.218 & 28980.218 & 4779.8958 & 15949.67 & 34144.91 & 0 & 0 & 0 & 0 & 1 & 0 & 0 & 0 & 0 & 0 & 0 & 0 & 0 & 0 & 0 & 0 & 0 & 1 & 0 & 0 & 0 & 0 & 0 & 0 & 0 & 0 & 0 & 1 & 0 & 0 &  503.0825 & General Tommy Franks Elementary School & 7 &  7 & 6 & 7  & 10159.7023 & James R Brooks Middle School & 4 & 5 & 5 & 3 & 2313.5915 & Early College High School At Midland College & 10 & 9 & 9 & 10 &  45473.33 & 0.0000000 & 2.0620586 & 0 & NA & 0 & 0 &   46.21117\\\\\n",
       "\t 4.817395e+14 & 3640 & 48329 & NA & NA           & NA & NA & NA & NA & NA & NA & NA & NA & NA & NA & NA & PROPERTY & NA & NA &    NA & NA & NA & NA         & NA & NA & NA                        & NA & NA & NA & NA & NA & NA & NA & NA                    & NA & NA & NA & NA & NA & NA & NA & NA & NA             & NA & NA    & NA & NA & NA & NA & NA & NA & NA & NA & NA & NA & NA      & NA       & midland-south & midland & tx & NA    & NA & NA & county               & NA                                    & NA & NA & NA & NA & NA   & NA & NA & No & NA & 48173950100 & 481739501002 & NA & NA & NA & NA & NA &    NA &      NA & 86.67988 & 16243 & 3084 & 2 & {[}{[}152, 80.2{]}, {[}121, 19.5{]}, {[}4, 0.3{]}{]}             & Shrubland & 80.2 & 2020 & 2020/01/08 & /us/tx/midland/midland-south/68109 & NA        & 016a0c65-8892-453a-ba35-66d1910f52a0 & 2022/02/22 & NA & NA & NA & NA & NA & NA & NA & NA & NA & NA & NA & none & NA & NA & NA & NA & NA & NA & NA & NA & NA     & NA & NA & NA & NA           & NA    &    NA & NA & NA & NA & NA  & NA & NA & NA      & NA                & NA           & 31.863928 & -101.774305 & NA & 4359.1897 & 24319.44 & 9845.6317 & 26608.850 & 22137.9442 & 21474.557 & 21034.698 & 24805.607 & 2316.8412 & 28889.33 & 4359.1897 &  6466.908 & 30358.632 & 28889.33 & 24805.607 & 30358.632 & 19197.82 & 30595.064 & 30595.064 & 2316.8412 & 18906.76 & 35057.13 & 0 & 0 & 0 & 0 & 1 & 0 & 0 & 0 & 0 & 0 & 0 & 0 & 0 & 0 & 0 & 0 & 0 & 1 & 0 & 0 & 0 & 0 & 0 & 0 & 0 & 0 & 0 & 1 & 0 & 0 &  391.8898 & General Tommy Franks Elementary School & 7 &  7 & 6 & 7  &  5660.3912 & James R Brooks Middle School & 4 & 5 & 5 & 3 & 3848.0976 & Early College High School At Midland College & 10 & 9 & 9 & 10 & 261950.00 & 0.1898664 &        NA & 1 & NA & 0 & 0 &  324.81875\\\\\n",
       "\t 4.831795e+14 &  479 & 48329 & NA & 038100090050 & NA & NA & NA & NA & NA & NA & NA & NA & NA & NA & NA & PROPERTY &  0 & NA & 89900 & NA & NA & 2014/12/16 & NA & NA & BRYSON HOY LEE JR         & NA & NA & NA & NA & NA & NA & NA & 6708 N COUNTY RD 1150 & NA & NA & NA & NA & NA & NA & NA & NA & MIDLAND        & TX & 79705 & NA & NA & NA & NA & n  & NA & NA & NA & NA & NA & Midland & n        & midland       & midland & tx & 79782 & NA & NA & county,census\\_places & 8.99 AC OUT OF W/2 SEC: 9 BLK: 38-T1S & NA & NA & NA & 9  & 50   & NA & NA & No & NA & 48317950100 & 483179501001 & NA & NA & NA & NA & NA &  8.99 &  391604 &  5.57723 & 12370 &   NA & 0 & NA                                               & NA        &   NA & NA   & 2021/01/21 & /us/tx/midland/midland/69712       & NA        & ded8b483-156c-430e-a671-156f01ef0247 & 2022/02/22 & NA & NA & NA & NA & NA & NA & NA & NA & NA & NA & NA & none & NA & NA & NA & NA & NA & NA & NA & NA & DNOCHG & NA & NA & NA & 038100090050 & 03810 & 89900 & NA & NA & NA & Q38 & NA & NA & R185415 & 00003810.009.0050 & 038100090050 & 32.087346 & -102.038619 & NA &  430.1516 & 23818.17 &  354.0349 &  5241.344 &   875.2925 &  6568.269 &  1726.899 &  6102.406 &  509.9129 & 11610.15 &  430.1516 & 28052.801 &  5907.177 & 11610.15 &  6102.406 &  5907.177 & 14090.20 &  8630.346 &  8630.346 &  509.9129 & 18236.68 & 15537.71 & 0 & 0 & 0 & 0 & 1 & 0 & 0 & 0 & 0 & 0 & 0 & 0 & 0 & 0 & 0 & 1 & 0 & 0 & 0 & 0 & 0 & 0 & 0 & 0 & 0 & 0 & 0 & 1 & 0 & 0 &  764.9086 & Carver Center                          & 9 & 10 & 8 & 10 &  4343.9085 & James R Brooks Middle School & 4 & 5 & 5 & 3 &  987.5479 & Early College High School At Midland College & 10 & 9 & 9 & 10 & 114673.89 & 0.0000000 & 7.2675829 & 0 & NA & 0 & 0 &   53.18216\\\\\n",
       "\t 4.831795e+14 & 6112 & 48329 & NA & 038100090060 & NA & NA & NA & NA & NA & NA & NA & NA & NA & NA & NA & PROPERTY &  0 & NA &  1510 & NA & NA & 2017/12/08 & NA & NA & NEVILLES CHRISTOPHER CODY & NA & NA & NA & NA & NA & NA & NA & PO BOX 260060         & NA & NA & NA & NA & NA & NA & NA & NA & CORPUS CHRISTI & TX & 78426 & NA & NA & NA & NA & NA & NA & NA & NA & NA & NA & Midland & n        & midland       & midland & tx & 79782 & NA & NA & county,census\\_places & W/2 SEC: 9 BLK: 38-T1S                & NA & NA & NA & 9  & 60   & NA & NA & No & NA & 48317950100 & 483179501001 & NA & NA & NA & NA & NA &  8.83 &  384635 &  5.98278 & 12971 &   NA & 0 & NA                                               & NA        &   NA & NA   & 2020/02/28 & /us/tx/midland/midland/63454       & preserved & c6d46e4a-76d9-4dd2-842e-fc7d2fa1f1c3 & 2022/02/22 & NA & NA & NA & NA & NA & NA & NA & NA & NA & NA & NA & none & NA & NA & NA & NA & NA & NA & NA & NA & DNOCHG & NA & NA & NA & 038100090060 & 03810 &  1510 & NA & NA & NA & Q38 & NA & NA & R211123 & 00003810.009.0060 & 038100090060 & 32.088430 & -102.039031 & NA &  443.3734 & 23858.70 &  230.0450 &  5289.464 &   989.2459 &  6693.165 &  1853.265 &  6221.013 &  636.2618 & 11727.87 &  443.3734 & 28169.296 &  5994.210 & 11727.87 &  6221.013 &  5994.210 & 14204.69 &  8745.645 &  8745.645 &  636.2618 & 18324.02 & 15620.26 & 0 & 0 & 0 & 0 & 1 & 0 & 0 & 0 & 0 & 0 & 0 & 0 & 0 & 0 & 0 & 1 & 0 & 0 & 0 & 0 & 0 & 0 & 0 & 0 & 0 & 0 & 0 & 1 & 0 & 0 & 1026.3965 & Greathouse Elementary School           & 6 &  6 & 7 & 5  &  2519.9887 & Goddard J High School        & 4 & 4 & 4 & 3 & 1871.7905 & Early College High School At Midland College & 10 & 9 & 9 & 10 & 114556.29 & 0.0000000 & 0.1164135 & 0 & NA & 0 & 0 & 1485.52636\\\\\n",
       "\t 4.831795e+14 & 8917 & 48329 & NA & 038100090050 & NA & NA & NA & NA & NA & NA & NA & NA & NA & NA & NA & PROPERTY &  0 & NA & 89900 & NA & NA & 2014/12/16 & NA & NA & BRYSON HOY LEE JR         & NA & NA & NA & NA & NA & NA & NA & 6708 N COUNTY RD 1150 & NA & NA & NA & NA & NA & NA & NA & NA & MIDLAND        & TX & 79705 & NA & NA & NA & NA & n  & NA & NA & NA & NA & NA & Midland & n        & midland       & midland & tx & 79782 & NA & NA & county,census\\_places & 8.99 AC OUT OF W/2 SEC: 9 BLK: 38-T1S & NA & NA & NA & 9  & 50   & NA & NA & No & NA & 48317950100 & 483179501001 & NA & NA & NA & NA & NA &  8.99 &  391604 &  5.00806 & 11122 & 3136 & 3 & NA                                               & NA        &   NA & NA   & 2020/02/28 & /us/tx/midland/midland/70203       & NA        & 4f6539b2-64f5-4911-8e1f-71193cfb4238 & 2022/02/22 & NA & NA & NA & NA & NA & NA & NA & NA & NA & NA & NA & none & NA & NA & NA & NA & NA & NA & NA & NA & DNOCHG & NA & NA & NA & 038100090050 & 03810 & 89900 & NA & NA & NA & Q38 & NA & NA & R185415 & 00003810.009.0050 & 038100090050 & 32.089430 & -102.038843 & NA &  524.1963 & 23842.97 &  123.4871 &  5375.972 &  1101.2981 &  6784.555 &  1954.339 &  6298.016 &  737.1677 & 11839.49 &  524.1963 & 28241.845 &  6100.412 & 11839.49 &  6298.016 &  6100.412 & 14316.81 &  8857.684 &  8857.684 &  737.1677 & 18356.79 & 15724.35 & 0 & 0 & 0 & 0 & 1 & 0 & 0 & 0 & 0 & 0 & 0 & 0 & 0 & 0 & 0 & 1 & 0 & 0 & 0 & 0 & 0 & 0 & 0 & 0 & 0 & 0 & 0 & 1 & 0 & 0 &  762.4150 & James Bowie Fine Arts Academy          & 5 &  6 & 4 & 5  &   536.8111 & Goddard J High School        & 4 & 4 & 4 & 3 & 1174.9803 & Early College High School At Midland College & 10 & 9 & 9 & 10 &  49207.59 & 0.2819637 & 8.0830786 & 1 & NA & 0 & 0 &   84.57822\\\\\n",
       "\\end{tabular}\n"
      ],
      "text/markdown": [
       "\n",
       "A data.frame: 6 × 213\n",
       "\n",
       "| census_blo &lt;dbl&gt; | id &lt;int&gt; | geoid &lt;fct&gt; | sourceagen &lt;fct&gt; | parcelnumb &lt;fct&gt; | usecode &lt;fct&gt; | usedesc &lt;fct&gt; | zoning &lt;fct&gt; | zoning_des &lt;fct&gt; | struct &lt;int&gt; | ⋯ ⋯ | high_student_prog &lt;dbl&gt; | high_equity &lt;chr&gt; | mean_nb_PropV &lt;dbl&gt; | pct_struct &lt;dbl&gt; | parval_sqft &lt;dbl&gt; | has_struct &lt;dbl&gt; | Group.1 &lt;dbl&gt; | maxaddown &lt;dbl&gt; | maxadup &lt;dbl&gt; | dist_shop &lt;dbl&gt; |\n",
       "|---|---|---|---|---|---|---|---|---|---|---|---|---|---|---|---|---|---|---|---|---|\n",
       "| 4.813500e+14 |    1 | 48329 | NA | 600000130110 | NA | NA | NA | NA | NA | ⋯ | 9 | 10 |  42400.73 | 0.0000000 |        NA | 0 | NA | 0 | 0 |  144.24158 |\n",
       "| 4.817395e+14 | 2673 | 48329 | NA | 036300172000 | NA | NA | NA | NA | NA | ⋯ | 9 | 10 |  45473.33 | 0.0000000 | 2.0620586 | 0 | NA | 0 | 0 |   46.21117 |\n",
       "| 4.817395e+14 | 3640 | 48329 | NA | NA           | NA | NA | NA | NA | NA | ⋯ | 9 | 10 | 261950.00 | 0.1898664 |        NA | 1 | NA | 0 | 0 |  324.81875 |\n",
       "| 4.831795e+14 |  479 | 48329 | NA | 038100090050 | NA | NA | NA | NA | NA | ⋯ | 9 | 10 | 114673.89 | 0.0000000 | 7.2675829 | 0 | NA | 0 | 0 |   53.18216 |\n",
       "| 4.831795e+14 | 6112 | 48329 | NA | 038100090060 | NA | NA | NA | NA | NA | ⋯ | 9 | 10 | 114556.29 | 0.0000000 | 0.1164135 | 0 | NA | 0 | 0 | 1485.52636 |\n",
       "| 4.831795e+14 | 8917 | 48329 | NA | 038100090050 | NA | NA | NA | NA | NA | ⋯ | 9 | 10 |  49207.59 | 0.2819637 | 8.0830786 | 1 | NA | 0 | 0 |   84.57822 |\n",
       "\n"
      ],
      "text/plain": [
       "  census_blo   id   geoid sourceagen parcelnumb   usecode usedesc zoning\n",
       "1 4.813500e+14    1 48329 NA         600000130110 NA      NA      NA    \n",
       "2 4.817395e+14 2673 48329 NA         036300172000 NA      NA      NA    \n",
       "3 4.817395e+14 3640 48329 NA         NA           NA      NA      NA    \n",
       "4 4.831795e+14  479 48329 NA         038100090050 NA      NA      NA    \n",
       "5 4.831795e+14 6112 48329 NA         038100090060 NA      NA      NA    \n",
       "6 4.831795e+14 8917 48329 NA         038100090050 NA      NA      NA    \n",
       "  zoning_des struct ⋯ high_student_prog high_equity mean_nb_PropV pct_struct\n",
       "1 NA         NA     ⋯ 9                 10           42400.73     0.0000000 \n",
       "2 NA         NA     ⋯ 9                 10           45473.33     0.0000000 \n",
       "3 NA         NA     ⋯ 9                 10          261950.00     0.1898664 \n",
       "4 NA         NA     ⋯ 9                 10          114673.89     0.0000000 \n",
       "5 NA         NA     ⋯ 9                 10          114556.29     0.0000000 \n",
       "6 NA         NA     ⋯ 9                 10           49207.59     0.2819637 \n",
       "  parval_sqft has_struct Group.1 maxaddown maxadup dist_shop \n",
       "1        NA   0          NA      0         0        144.24158\n",
       "2 2.0620586   0          NA      0         0         46.21117\n",
       "3        NA   1          NA      0         0        324.81875\n",
       "4 7.2675829   0          NA      0         0         53.18216\n",
       "5 0.1164135   0          NA      0         0       1485.52636\n",
       "6 8.0830786   1          NA      0         0         84.57822"
      ]
     },
     "metadata": {},
     "output_type": "display_data"
    },
    {
     "data": {
      "text/html": [
       "<table>\n",
       "<caption>A data.frame: 6 × 213</caption>\n",
       "<thead>\n",
       "\t<tr><th></th><th scope=col>census_blo</th><th scope=col>id</th><th scope=col>geoid</th><th scope=col>sourceagen</th><th scope=col>parcelnumb</th><th scope=col>usecode</th><th scope=col>usedesc</th><th scope=col>zoning</th><th scope=col>zoning_des</th><th scope=col>struct</th><th scope=col>⋯</th><th scope=col>high_student_prog</th><th scope=col>high_equity</th><th scope=col>mean_nb_PropV</th><th scope=col>pct_struct</th><th scope=col>parval_sqft</th><th scope=col>has_struct</th><th scope=col>Group.1</th><th scope=col>maxaddown</th><th scope=col>maxadup</th><th scope=col>dist_shop</th></tr>\n",
       "\t<tr><th></th><th scope=col>&lt;dbl&gt;</th><th scope=col>&lt;int&gt;</th><th scope=col>&lt;fct&gt;</th><th scope=col>&lt;fct&gt;</th><th scope=col>&lt;fct&gt;</th><th scope=col>&lt;fct&gt;</th><th scope=col>&lt;fct&gt;</th><th scope=col>&lt;fct&gt;</th><th scope=col>&lt;fct&gt;</th><th scope=col>&lt;int&gt;</th><th scope=col>⋯</th><th scope=col>&lt;dbl&gt;</th><th scope=col>&lt;chr&gt;</th><th scope=col>&lt;dbl&gt;</th><th scope=col>&lt;dbl&gt;</th><th scope=col>&lt;dbl&gt;</th><th scope=col>&lt;dbl&gt;</th><th scope=col>&lt;dbl&gt;</th><th scope=col>&lt;dbl&gt;</th><th scope=col>&lt;dbl&gt;</th><th scope=col>&lt;dbl&gt;</th></tr>\n",
       "</thead>\n",
       "<tbody>\n",
       "\t<tr><th scope=row>34711</th><td>4.832901e+14</td><td>47861</td><td>48329</td><td>NA</td><td>426000050030</td><td>A1</td><td>NA</td><td>NA</td><td>NA</td><td>NA</td><td>⋯</td><td>2</td><td>2</td><td>65733.65</td><td>0.3370104</td><td>44.70497</td><td>1</td><td>NA</td><td>0</td><td>0</td><td>305.42079</td></tr>\n",
       "\t<tr><th scope=row>34712</th><td>4.832901e+14</td><td>47940</td><td>48329</td><td>NA</td><td>426000050020</td><td>A1</td><td>NA</td><td>NA</td><td>NA</td><td>NA</td><td>⋯</td><td>2</td><td>2</td><td>66185.01</td><td>0.4070066</td><td>44.09296</td><td>1</td><td>NA</td><td>0</td><td>0</td><td>495.62261</td></tr>\n",
       "\t<tr><th scope=row>34713</th><td>4.832901e+14</td><td>48021</td><td>48329</td><td>NA</td><td>426000020180</td><td>A1</td><td>NA</td><td>NA</td><td>NA</td><td>NA</td><td>⋯</td><td>2</td><td>2</td><td>61676.50</td><td>0.7558227</td><td>57.28901</td><td>1</td><td>NA</td><td>0</td><td>0</td><td>174.26491</td></tr>\n",
       "\t<tr><th scope=row>34714</th><td>4.832901e+14</td><td>48024</td><td>48329</td><td>NA</td><td>426000050010</td><td>A1</td><td>NA</td><td>NA</td><td>NA</td><td>NA</td><td>⋯</td><td>2</td><td>2</td><td>61548.82</td><td>0.3961005</td><td>40.48894</td><td>1</td><td>NA</td><td>0</td><td>0</td><td> 88.79771</td></tr>\n",
       "\t<tr><th scope=row>34715</th><td>4.832901e+14</td><td>48123</td><td>48329</td><td>NA</td><td>426000090050</td><td>A1</td><td>NA</td><td>NA</td><td>NA</td><td>NA</td><td>⋯</td><td>2</td><td>2</td><td>62175.25</td><td>0.0814064</td><td>15.56677</td><td>1</td><td>NA</td><td>0</td><td>0</td><td>428.85109</td></tr>\n",
       "\t<tr><th scope=row>34716</th><td>4.832901e+14</td><td>48155</td><td>48329</td><td>NA</td><td>426000020540</td><td>A1</td><td>NA</td><td>NA</td><td>NA</td><td>NA</td><td>⋯</td><td>2</td><td>2</td><td>66181.66</td><td>0.5014010</td><td>62.62898</td><td>1</td><td>NA</td><td>0</td><td>0</td><td>260.10094</td></tr>\n",
       "</tbody>\n",
       "</table>\n"
      ],
      "text/latex": [
       "A data.frame: 6 × 213\n",
       "\\begin{tabular}{r|lllllllllllllllllllllllllllllllllllllllllllllllllllllllllllllllllllllllllllllllllllllllllllllllllllllllllllllllllllllllllllllllllllllllllllllllllllllllllllllllllllllllllllllllllllllllllllllllllllllllllllllllllllll}\n",
       "  & census\\_blo & id & geoid & sourceagen & parcelnumb & usecode & usedesc & zoning & zoning\\_des & struct & multistruc & structno & yearbuilt & numstories & numunits & structstyl & parvaltype & improvval & landval & parval & agval & saleprice & saledate & taxamt & owntype & owner & ownfrst & ownlast & owner2 & owner3 & owner4 & subsurfown & subowntype & mailadd & mail\\_addre & careof & mail\\_addno & mail\\_addpr & mail\\_addst & mail\\_add\\_1 & mail\\_add\\_2 & mail\\_unit & mail\\_city & mail\\_state & mail\\_zip & mail\\_count & mail\\_urban & address & address2 & saddno & saddpref & saddstr & saddsttyp & saddstsuf & sunit & scity & original\\_a & city & county & state2 & szip & urbanizati & location\\_n & address\\_so & legaldesc & plat & book & page & block & lot & neighborho & subdivisio & qoz & qoz\\_tract & census\\_tra & census\\_b\\_1 & sourceref & sourcedate & sourceurl & recrdareat & recrdarean & gisacre & sqft & ll\\_gisacre & ll\\_gissqft & ll\\_bldg\\_fo & ll\\_bldg\\_co & cdl\\_raw & cdl\\_majori & cdl\\_majo\\_1 & cdl\\_date & reviseddat & path & ll\\_stable\\_ & ll\\_uuid & ll\\_updated & dpv\\_status & dpv\\_codes & dpv\\_notes & dpv\\_type & cass\\_error & rdi & usps\\_vacan & usps\\_vac\\_1 & lbcs\\_activ & lbcs\\_act\\_1 & lbcs\\_funct & lbcs\\_fun\\_1 & lbcs\\_struc & lbcs\\_str\\_1 & lbcs\\_site & lbcs\\_site\\_ & lbcs\\_owner & lbcs\\_own\\_1 & mopin\\_plus & sw\\_area & sw\\_tier & comments\\_ & northstari & northstarf & pin\\_1 & subno & prop\\_value & grantee\\_su & pd\\_num & su\\_num & map\\_num & exempt & county\\_lan & short\\_r & geo\\_id & pin\\_2 & lat & lon & taxyear & dist\\_Ag\\_forest & dist\\_Alfalfa & dist\\_Cotton & dist\\_Dev\\_High & dist\\_Dev\\_Low & dist\\_Dev\\_Med & dist\\_Dev\\_OS & dist\\_E\\_Power & dist\\_indust & dist\\_natural\\_gas & dist\\_natural\\_res & dist\\_Other\\_Hay & dist\\_park\\_act & dist\\_Petrochem & dist\\_power & dist\\_rec\\_parks & dist\\_Sorghum & dist\\_Tele\\_Broad & dist\\_telecom & dist\\_Wholesale & dist\\_Winter\\_Wheat & dist\\_Woody\\_Wet & lbcs\\_act\\_1\\_House & lbcs\\_act\\_1\\_Indust & lbcs\\_act\\_1\\_Natural\\_gas & lbcs\\_act\\_1\\_Natural\\_res & lbcs\\_act\\_1\\_none & lbcs\\_act\\_1\\_Power\\_gen & lbcs\\_act\\_1\\_parks\\_act & lbcs\\_act\\_1\\_Shop & lbcs\\_act\\_1\\_Telecom & cdl\\_majori\\_Alfalfa & cdl\\_majori\\_Cotton & cdl\\_majori\\_Dev\\_High & cdl\\_majori\\_Dev\\_Low & cdl\\_majori\\_Dev\\_Med & cdl\\_majori\\_Dev\\_OS & cdl\\_majori\\_none & cdl\\_majori\\_Other\\_Hay & cdl\\_majori\\_Shrubland & cdl\\_majori\\_Sorghum & cdl\\_majori\\_Winter\\_Wheat & cdl\\_majori\\_Woody\\_Wet & lbcs\\_fun\\_1\\_Ag\\_forest & lbcs\\_fun\\_1\\_E\\_power & lbcs\\_fun\\_1\\_Gen\\_serv & lbcs\\_fun\\_1\\_wholesale & lbcs\\_fun\\_1\\_rec\\_parks & lbcs\\_fun\\_1\\_Natural\\_gas & lbcs\\_fun\\_1\\_none & lbcs\\_fun\\_1\\_Pri\\_house & lbcs\\_fun\\_1\\_Tele\\_broad & elem\\_dist & elem\\_School\\_Name & elem\\_rating & elem\\_scores & elem\\_student\\_prog & elem\\_equity & middle\\_dist & middle\\_School\\_Name & middle\\_rating & middle\\_scores & middle\\_student\\_prog & middle\\_equity & high\\_dist & high\\_School\\_Name & high\\_rating & high\\_scores & high\\_student\\_prog & high\\_equity & mean\\_nb\\_PropV & pct\\_struct & parval\\_sqft & has\\_struct & Group.1 & maxaddown & maxadup & dist\\_shop\\\\\n",
       "  & <dbl> & <int> & <fct> & <fct> & <fct> & <fct> & <fct> & <fct> & <fct> & <int> & <int> & <int> & <int> & <dbl> & <int> & <fct> & <fct> & <dbl> & <dbl> & <dbl> & <dbl> & <dbl> & <fct> & <dbl> & <fct> & <fct> & <fct> & <fct> & <fct> & <fct> & <fct> & <fct> & <fct> & <fct> & <fct> & <fct> & <fct> & <fct> & <fct> & <fct> & <fct> & <fct> & <fct> & <fct> & <fct> & <fct> & <fct> & <fct> & <fct> & <fct> & <fct> & <fct> & <fct> & <fct> & <fct> & <fct> & <fct> & <fct> & <fct> & <fct> & <fct> & <fct> & <fct> & <fct> & <fct> & <fct> & <fct> & <fct> & <fct> & <fct> & <fct> & <fct> & <fct> & <fct> & <fct> & <fct> & <fct> & <fct> & <fct> & <fct> & <dbl> & <dbl> & <dbl> & <dbl> & <dbl> & <dbl> & <int> & <fct> & <fct> & <dbl> & <fct> & <fct> & <fct> & <fct> & <fct> & <fct> & <fct> & <fct> & <fct> & <fct> & <fct> & <fct> & <fct> & <fct> & <dbl> & <fct> & <dbl> & <chr> & <dbl> & <fct> & <dbl> & <fct> & <dbl> & <fct> & <fct> & <fct> & <fct> & <fct> & <fct> & <fct> & <fct> & <fct> & <dbl> & <fct> & <fct> & <fct> & <fct> & <fct> & <fct> & <fct> & <fct> & <fct> & <fct> & <fct> & <fct> & <dbl> & <dbl> & <dbl> & <dbl> & <dbl> & <dbl> & <dbl> & <dbl> & <dbl> & <dbl> & <dbl> & <dbl> & <dbl> & <dbl> & <dbl> & <dbl> & <dbl> & <dbl> & <dbl> & <dbl> & <dbl> & <dbl> & <dbl> & <dbl> & <dbl> & <dbl> & <dbl> & <dbl> & <dbl> & <dbl> & <dbl> & <dbl> & <dbl> & <dbl> & <dbl> & <dbl> & <dbl> & <dbl> & <dbl> & <dbl> & <dbl> & <dbl> & <dbl> & <dbl> & <dbl> & <dbl> & <dbl> & <dbl> & <dbl> & <dbl> & <dbl> & <dbl> & <dbl> & <chr> & <dbl> & <dbl> & <dbl> & <chr> & <dbl> & <chr> & <dbl> & <dbl> & <dbl> & <chr> & <dbl> & <chr> & <dbl> & <dbl> & <dbl> & <chr> & <dbl> & <dbl> & <dbl> & <dbl> & <dbl> & <dbl> & <dbl> & <dbl>\\\\\n",
       "\\hline\n",
       "\t34711 & 4.832901e+14 & 47861 & 48329 & NA & 426000050030 & A1 & NA & NA & NA & NA & NA & NA & NA & NA & NA & NA & PROPERTY & 520780 & NA & 603830 & NA & NA & 2005/06/02 & NA & NA & WEST W GREG         & NA & NA & NA & NA & NA & NA & NA & 6410 SEQUOIA DR      & NA & NA & NA & NA & NA & NA & NA & NA & MIDLAND & TX & 79707      & NA & NA & 6410 SEQUOIA DR      & NA & 6410 & NA & SEQUOIA    & DR   & NA & NA & MIDLAND & 6410 SEQUOIA DR; 6410; SEQUOIA; MIDLAND       & midland & midland & tx & 79707-1548 & NA & NA & county;accuzip & BLK: 005 LOT: 003 ADDN: GREEN TREE COUNTRY CLUB ESTATES       & NA & 2526 & 533 & 5 & 30  & NA & NA & No & NA & 48329010116 & 483290101161 & NA & NA & NA & NA & NA & 0.636 & 27704 & 0.63581 & 13507 & 4552 & 1 & NA & NA & NA & NA & 2020/03/24 & /us/tx/midland/midland/58279 & preserved & acd64f71-388b-4bcb-87a0-a6719e2d9c6a & 2022/03/07 & V & YN NN & AABB & S & A1 & Y & N & 2022/03/01 & 1100 & Household & 1100 & Private household & 1100 & Single-family buildings & 6000 & Developed site with buildings & NA & NA & NA & NA & DRT3 & NA & 34752 & NA & 426000050030 & 42600 & 83050 & NA & NA & NA & L37A & NA & NA & R22649 & 00042600.005.0030 & 426000050030 & 32.052576 & -102.169977 & NA & 1504.3163 & 36399.32 & 2454.460 & 2921.098 & 2997.060 & 3236.314 & 717.1615 & 9647.195 & 4987.674 & 14026.67 & 1504.3163 & 35311.28 & 2524.154 & 14026.67 & 9647.195 & 2524.154 & 14687.15 & 6698.380 & 6698.380 & 4987.674 & 29128.19 & 10341.17 & 1 & 0 & 0 & 0 & 0 & 0 & 0 & 0 & 0 & 0 & 0 & 0 & 0 & 0 & 0 & 1 & 0 & 0 & 0 & 0 & 0 & 0 & 0 & 0 & 0 & 0 & 0 & 0 & 1 & 0 & 1283.2351 & Houston Elementary School & 4 & 2 & 5 & 3 & 3024.642 & San Jacinto J High School & 3 & 3 & 3 & 2 & 14122.576 & Premier High School Of Lewisville & 2 & 2 & 2 & 2 & 65733.65 & 0.3370104 & 44.70497 & 1 & NA & 0 & 0 & 305.42079\\\\\n",
       "\t34712 & 4.832901e+14 & 47940 & 48329 & NA & 426000050020 & A1 & NA & NA & NA & NA & NA & NA & NA & NA & NA & NA & PROPERTY & 546130 & NA & 635600 & NA & NA & 2018/11/06 & NA & NA & HENRY SAMUEL L      & NA & NA & NA & NA & NA & NA & NA & 6500 SEQUOIA DR      & NA & NA & NA & NA & NA & NA & NA & NA & MIDLAND & TX & 79707      & NA & NA & 6500 SEQUOIA DR      & NA & 6500 & NA & SEQUOIA    & DR   & NA & NA & MIDLAND & 6500 SEQUOIA DR; 6500; SEQUOIA; MIDLAND       & midland & midland & tx & 79707-1549 & NA & NA & county;accuzip & BLK: 005 LOT: 002 ADDN: GREEN TREE COUNTRY CLUB ESTATES       & NA & NA   & NA  & 5 & 20  & NA & NA & No & NA & 48329010116 & 483290101161 & NA & NA & NA & NA & NA & 0.685 & 29839 & 0.68490 & 14415 & 5867 & 1 & NA & NA & NA & NA & 2020/03/24 & /us/tx/midland/midland/58369 & preserved & 0474b832-fcff-4d97-9dd6-4ae749cabc84 & 2022/03/07 & V & YN NN & AABB & S & A1 & Y & N & 2022/03/01 & 1100 & Household & 1100 & Private household & 1100 & Single-family buildings & 6000 & Developed site with buildings & NA & NA & NA & NA & DRT3 & NA & 34750 & NA & 426000050020 & 42600 & 89470 & NA & NA & NA & L37A & NA & NA & R22648 & 00042600.005.0020 & 426000050020 & 32.052932 & -102.170068 & NA & 1526.0041 & 36403.94 & 2458.164 & 2961.023 & 3028.548 & 3276.681 & 725.1532 & 9679.710 & 5025.623 & 14055.64 & 1526.0041 & 35338.20 & 2563.257 & 14055.64 & 9679.710 & 2563.257 & 14720.63 & 6738.795 & 6738.795 & 5025.623 & 29142.16 & 10380.69 & 1 & 0 & 0 & 0 & 0 & 0 & 0 & 0 & 0 & 0 & 0 & 0 & 0 & 0 & 0 & 1 & 0 & 0 & 0 & 0 & 0 & 0 & 0 & 0 & 0 & 0 & 0 & 0 & 1 & 0 &  467.5350 & Jones Elementary School   & 4 & 3 & 5 & 2 & 2823.274 & San Jacinto J High School & 3 & 3 & 3 & 2 &  1781.830 & Premier High School Of Lewisville & 2 & 2 & 2 & 2 & 66185.01 & 0.4070066 & 44.09296 & 1 & NA & 0 & 0 & 495.62261\\\\\n",
       "\t34713 & 4.832901e+14 & 48021 & 48329 & NA & 426000020180 & A1 & NA & NA & NA & NA & NA & NA & NA & NA & NA & NA & PROPERTY & 359110 & NA & 457510 & NA & NA & 2001/08/30 & NA & NA & BROOKS MORRIS A     & NA & NA & NA & NA & NA & NA & NA & 4551 SHADY OAK CT    & NA & NA & NA & NA & NA & NA & NA & NA & MIDLAND & TX & 79707-1621 & NA & NA & 4551 SHADY OAK CT    & NA & 4551 & NA & SHADY OAK  & CT   & NA & NA & MIDLAND & 4551 SHADY OAK CT; 4551; SHADY OAK; MIDLAND   & midland & midland & tx & 79707-1621 & NA & NA & county;accuzip & BLK: 002 LOT: 018 ADDN: GREEN TREE COUNTRY CLUB ESTATES       & NA & 1902 & 326 & 2 & 180 & NA & NA & No & NA & 48329010116 & 483290101161 & NA & NA & NA & NA & NA & 0.376 & 16379 & 0.38826 &  7986 & 6036 & 1 & NA & NA & NA & NA & 2020/03/24 & /us/tx/midland/midland/58470 & preserved & 28c71c57-3854-4f38-883d-345143684930 & 2022/03/07 & V & YN NN & AABB & S & A1 & Y & N & 2022/03/01 & 1100 & Household & 1100 & Private household & 1100 & Single-family buildings & 6000 & Developed site with buildings & NA & NA & NA & NA & DRT3 & NA & 34566 & NA & 426000020180 & 42600 & 98400 & NA & NA & NA & L37A & NA & NA & R22555 & 00042600.002.0180 & 426000020180 & 32.053454 & -102.160060 & NA &  903.7817 & 35457.71 & 1513.394 & 2815.906 & 2417.904 & 3205.308 & 229.9889 & 9032.477 & 4641.587 & 13312.06 &  903.7817 & 34547.80 & 2351.484 & 13312.06 & 9032.477 & 2351.484 & 14093.54 & 6615.658 & 6615.658 & 4641.587 & 28214.85 & 10079.08 & 1 & 0 & 0 & 0 & 0 & 0 & 0 & 0 & 0 & 0 & 0 & 0 & 0 & 0 & 0 & 1 & 0 & 0 & 0 & 0 & 0 & 0 & 0 & 0 & 0 & 0 & 0 & 0 & 1 & 0 &  590.4682 & Jones Elementary School   & 4 & 3 & 5 & 2 & 4914.108 & San Jacinto J High School & 3 & 3 & 3 & 2 &  2756.748 & Premier High School Of Lewisville & 2 & 2 & 2 & 2 & 61676.50 & 0.7558227 & 57.28901 & 1 & NA & 0 & 0 & 174.26491\\\\\n",
       "\t34714 & 4.832901e+14 & 48024 & 48329 & NA & 426000050010 & A1 & NA & NA & NA & NA & NA & NA & NA & NA & NA & NA & PROPERTY & 458280 & NA & 539920 & NA & NA & 2006/07/03 & NA & NA & HANCOCK VINCENT RAY & NA & NA & NA & NA & NA & NA & NA & 6502 SEQUOIA DR      & NA & NA & NA & NA & NA & NA & NA & NA & MIDLAND & TX & 79707      & NA & NA & 6502 SEQUOIA DR      & NA & 6502 & NA & SEQUOIA    & DR   & NA & NA & MIDLAND & 6502 SEQUOIA DR; 6502; SEQUOIA; MIDLAND       & midland & midland & tx & 79707-1549 & NA & NA & county;accuzip & BLK: 005 LOT: 001 ADDN: GREEN TREE COUNTRY CLUB ESTATES       & NA & 2705 & 152 & 5 & 10  & NA & NA & No & NA & 48329010116 & 483290101161 & NA & NA & NA & NA & NA & 0.625 & 27225 & 0.62440 & 13335 & 5282 & 1 & NA & NA & NA & NA & 2020/03/24 & /us/tx/midland/midland/58474 & preserved & ad5e751e-5e1e-45df-a769-4389eccd173a & 2022/03/07 & V & YN NN & AABB & S & A1 & Y & N & 2022/03/01 & 1100 & Household & 1100 & Private household & 1100 & Single-family buildings & 6000 & Developed site with buildings & NA & NA & NA & NA & DRT3 & NA & 34748 & NA & 426000050010 & 42600 & 81640 & NA & NA & NA & L37A & NA & NA & R22647 & 00042600.005.0010 & 426000050010 & 32.053291 & -102.170226 & NA & 1490.1855 & 36414.87 & 2468.802 & 3003.490 & 3065.272 & 3319.031 & 741.6155 & 9717.179 & 5067.189 & 14090.07 & 1490.1855 & 35370.76 & 2605.464 & 14090.07 & 9717.179 & 2605.464 & 14758.87 & 6781.070 & 6781.070 & 5067.189 & 29162.47 & 10423.06 & 1 & 0 & 0 & 0 & 0 & 0 & 0 & 0 & 0 & 0 & 0 & 0 & 0 & 0 & 0 & 1 & 0 & 0 & 0 & 0 & 0 & 0 & 0 & 0 & 0 & 0 & 0 & 0 & 1 & 0 &  783.5481 & Jones Elementary School   & 4 & 3 & 5 & 2 & 4541.515 & San Jacinto J High School & 3 & 3 & 3 & 2 & 13254.521 & Premier High School Of Lewisville & 2 & 2 & 2 & 2 & 61548.82 & 0.3961005 & 40.48894 & 1 & NA & 0 & 0 &  88.79771\\\\\n",
       "\t34715 & 4.832901e+14 & 48123 & 48329 & NA & 426000090050 & A1 & NA & NA & NA & NA & NA & NA & NA & NA & NA & NA & PROPERTY & 308010 & NA & 344010 & NA & NA & 1999/12/08 & NA & NA & CARR GRETCHEN D     & NA & NA & NA & NA & NA & NA & NA & 5301 GREEN TREE BLVD & NA & NA & NA & NA & NA & NA & NA & NA & MIDLAND & TX & 79707      & NA & NA & 5301 GREEN TREE BLVD & NA & 5301 & NA & GREEN TREE & BLVD & NA & NA & MIDLAND & 5301 GREEN TREE BL; 5301; GREEN TREE; MIDLAND & midland & midland & tx & 79707-1518 & NA & NA & county;accuzip & BLK: 009 LOT: 005 ADDN: GREEN TREE COUNTRY CLUB ESTATES SEC 3 & NA & 1732 & 634 & 9 & 50  & NA & NA & No & NA & 48329010116 & 483290101161 & NA & NA & NA & NA & NA & 0.138 &  6011 & 0.13781 & 22099 & 1799 & 1 & NA & NA & NA & NA & 2020/03/24 & /us/tx/midland/midland/58582 & preserved & 997224ed-ccd1-4835-885e-800a4c7af114 & 2022/03/07 & V & YN NN & AABB & S & A1 & Y & N & 2022/03/01 & 1100 & Household & 1100 & Private household & 1100 & Single-family buildings & 6000 & Developed site with buildings & NA & NA & NA & NA & DRT3 & NA & 35112 & NA & 426000090050 & 42600 & 36000 & NA & NA & NA & L37A & NA & NA & R22831 & 00042600.009.0050 & 426000090050 & 32.053740 & -102.169790 & NA & 1432.9672 & 36369.07 & 2423.424 & 3035.301 & 3065.888 & 3355.832 & 705.7731 & 9719.500 & 5087.626 & 14083.56 & 1432.9672 & 35359.57 & 2631.942 & 14083.56 & 9719.500 & 2631.942 & 14763.70 & 6818.750 & 6818.750 & 5087.626 & 29128.76 & 10451.46 & 1 & 0 & 0 & 0 & 0 & 0 & 0 & 0 & 0 & 0 & 0 & 0 & 0 & 0 & 0 & 1 & 0 & 0 & 0 & 0 & 0 & 0 & 0 & 0 & 0 & 0 & 0 & 0 & 1 & 0 &  428.6737 & Jones Elementary School   & 4 & 3 & 5 & 2 & 4023.465 & San Jacinto J High School & 3 & 3 & 3 & 2 & 10412.614 & Premier High School Of Lewisville & 2 & 2 & 2 & 2 & 62175.25 & 0.0814064 & 15.56677 & 1 & NA & 0 & 0 & 428.85109\\\\\n",
       "\t34716 & 4.832901e+14 & 48155 & 48329 & NA & 426000020540 & A1 & NA & NA & NA & NA & NA & NA & NA & NA & NA & NA & PROPERTY & 290810 & NA & 379970 & NA & NA & 2020/11/20 & NA & NA & SAENZ MAYRA J       & NA & NA & NA & NA & NA & NA & NA & 4479 HACKBERRY CT    & NA & NA & NA & NA & NA & NA & NA & NA & MIDLAND & TX & 79707      & NA & NA & 4479 HACKBERRY CT    & NA & 4479 & NA & HACKBERRY  & CT   & NA & NA & MIDLAND & 4479 HACKBERRY CT; 4479; HACKBERRY; MIDLAND   & midland & midland & tx & 79707-1614 & NA & NA & county;accuzip & BLK: 002 LOT: 054 ADDN: GREEN TREE COUNTRY CLUB ESTATES       & NA & NA   & NA  & 2 & 540 & NA & NA & No & NA & 48329010116 & 483290101161 & NA & NA & NA & NA & NA & 0.341 & 14854 & 0.33170 &  6067 & 3042 & 1 & NA & NA & NA & NA & 2020/03/24 & /us/tx/midland/midland/58619 & preserved & fbc22606-06a4-4ec8-97fd-9df5248df613 & 2022/03/07 & V & YN NN & AABB & S & A1 & Y & N & 2022/03/01 & 1100 & Household & 1100 & Private household & 1100 & Single-family buildings & 6000 & Developed site with buildings & NA & NA & NA & NA & DRT3 & NA & 34638 & NA & 426000020540 & 42600 & 89160 & NA & NA & NA & L37A & NA & NA & R22591 & 00042600.002.0540 & 426000020540 & 32.053996 & -102.157784 & NA &  827.9192 & 35237.85 & 1292.246 & 2818.720 & 2351.328 & 3274.772 & 453.1887 & 8927.009 & 4621.489 & 13174.70 &  827.9192 & 34393.07 & 2401.421 & 13174.70 & 8927.009 & 2401.421 & 13990.47 & 6653.170 & 6653.170 & 4621.489 & 28011.09 & 10066.37 & 1 & 0 & 0 & 0 & 0 & 0 & 0 & 0 & 0 & 0 & 0 & 0 & 0 & 0 & 0 & 1 & 0 & 0 & 0 & 0 & 0 & 0 & 0 & 0 & 0 & 0 & 0 & 0 & 1 & 0 &  476.4305 & Jones Elementary School   & 4 & 3 & 5 & 2 & 3564.499 & San Jacinto J High School & 3 & 3 & 3 & 2 & 13047.413 & Premier High School Of Lewisville & 2 & 2 & 2 & 2 & 66181.66 & 0.5014010 & 62.62898 & 1 & NA & 0 & 0 & 260.10094\\\\\n",
       "\\end{tabular}\n"
      ],
      "text/markdown": [
       "\n",
       "A data.frame: 6 × 213\n",
       "\n",
       "| <!--/--> | census_blo &lt;dbl&gt; | id &lt;int&gt; | geoid &lt;fct&gt; | sourceagen &lt;fct&gt; | parcelnumb &lt;fct&gt; | usecode &lt;fct&gt; | usedesc &lt;fct&gt; | zoning &lt;fct&gt; | zoning_des &lt;fct&gt; | struct &lt;int&gt; | ⋯ ⋯ | high_student_prog &lt;dbl&gt; | high_equity &lt;chr&gt; | mean_nb_PropV &lt;dbl&gt; | pct_struct &lt;dbl&gt; | parval_sqft &lt;dbl&gt; | has_struct &lt;dbl&gt; | Group.1 &lt;dbl&gt; | maxaddown &lt;dbl&gt; | maxadup &lt;dbl&gt; | dist_shop &lt;dbl&gt; |\n",
       "|---|---|---|---|---|---|---|---|---|---|---|---|---|---|---|---|---|---|---|---|---|---|\n",
       "| 34711 | 4.832901e+14 | 47861 | 48329 | NA | 426000050030 | A1 | NA | NA | NA | NA | ⋯ | 2 | 2 | 65733.65 | 0.3370104 | 44.70497 | 1 | NA | 0 | 0 | 305.42079 |\n",
       "| 34712 | 4.832901e+14 | 47940 | 48329 | NA | 426000050020 | A1 | NA | NA | NA | NA | ⋯ | 2 | 2 | 66185.01 | 0.4070066 | 44.09296 | 1 | NA | 0 | 0 | 495.62261 |\n",
       "| 34713 | 4.832901e+14 | 48021 | 48329 | NA | 426000020180 | A1 | NA | NA | NA | NA | ⋯ | 2 | 2 | 61676.50 | 0.7558227 | 57.28901 | 1 | NA | 0 | 0 | 174.26491 |\n",
       "| 34714 | 4.832901e+14 | 48024 | 48329 | NA | 426000050010 | A1 | NA | NA | NA | NA | ⋯ | 2 | 2 | 61548.82 | 0.3961005 | 40.48894 | 1 | NA | 0 | 0 |  88.79771 |\n",
       "| 34715 | 4.832901e+14 | 48123 | 48329 | NA | 426000090050 | A1 | NA | NA | NA | NA | ⋯ | 2 | 2 | 62175.25 | 0.0814064 | 15.56677 | 1 | NA | 0 | 0 | 428.85109 |\n",
       "| 34716 | 4.832901e+14 | 48155 | 48329 | NA | 426000020540 | A1 | NA | NA | NA | NA | ⋯ | 2 | 2 | 66181.66 | 0.5014010 | 62.62898 | 1 | NA | 0 | 0 | 260.10094 |\n",
       "\n"
      ],
      "text/plain": [
       "      census_blo   id    geoid sourceagen parcelnumb   usecode usedesc zoning\n",
       "34711 4.832901e+14 47861 48329 NA         426000050030 A1      NA      NA    \n",
       "34712 4.832901e+14 47940 48329 NA         426000050020 A1      NA      NA    \n",
       "34713 4.832901e+14 48021 48329 NA         426000020180 A1      NA      NA    \n",
       "34714 4.832901e+14 48024 48329 NA         426000050010 A1      NA      NA    \n",
       "34715 4.832901e+14 48123 48329 NA         426000090050 A1      NA      NA    \n",
       "34716 4.832901e+14 48155 48329 NA         426000020540 A1      NA      NA    \n",
       "      zoning_des struct ⋯ high_student_prog high_equity mean_nb_PropV\n",
       "34711 NA         NA     ⋯ 2                 2           65733.65     \n",
       "34712 NA         NA     ⋯ 2                 2           66185.01     \n",
       "34713 NA         NA     ⋯ 2                 2           61676.50     \n",
       "34714 NA         NA     ⋯ 2                 2           61548.82     \n",
       "34715 NA         NA     ⋯ 2                 2           62175.25     \n",
       "34716 NA         NA     ⋯ 2                 2           66181.66     \n",
       "      pct_struct parval_sqft has_struct Group.1 maxaddown maxadup dist_shop\n",
       "34711 0.3370104  44.70497    1          NA      0         0       305.42079\n",
       "34712 0.4070066  44.09296    1          NA      0         0       495.62261\n",
       "34713 0.7558227  57.28901    1          NA      0         0       174.26491\n",
       "34714 0.3961005  40.48894    1          NA      0         0        88.79771\n",
       "34715 0.0814064  15.56677    1          NA      0         0       428.85109\n",
       "34716 0.5014010  62.62898    1          NA      0         0       260.10094"
      ]
     },
     "metadata": {},
     "output_type": "display_data"
    }
   ],
   "source": [
    "mid_1 <- readRDS(\"mid_parcel_rds1\")\n",
    "head(mid_1)\n",
    "mid_2 <- readRDS(\"mid_parcel_rds2\")\n",
    "head(mid_2)"
   ]
  },
  {
   "cell_type": "code",
   "execution_count": 13,
   "metadata": {},
   "outputs": [
    {
     "data": {
      "text/html": [
       "69420"
      ],
      "text/latex": [
       "69420"
      ],
      "text/markdown": [
       "69420"
      ],
      "text/plain": [
       "[1] 69420"
      ]
     },
     "metadata": {},
     "output_type": "display_data"
    },
    {
     "data": {
      "text/html": [
       "<table>\n",
       "<caption>A data.frame: 6 × 213</caption>\n",
       "<thead>\n",
       "\t<tr><th scope=col>census_blo</th><th scope=col>id</th><th scope=col>geoid</th><th scope=col>sourceagen</th><th scope=col>parcelnumb</th><th scope=col>usecode</th><th scope=col>usedesc</th><th scope=col>zoning</th><th scope=col>zoning_des</th><th scope=col>struct</th><th scope=col>⋯</th><th scope=col>high_student_prog</th><th scope=col>high_equity</th><th scope=col>mean_nb_PropV</th><th scope=col>pct_struct</th><th scope=col>parval_sqft</th><th scope=col>has_struct</th><th scope=col>Group.1</th><th scope=col>maxaddown</th><th scope=col>maxadup</th><th scope=col>dist_shop</th></tr>\n",
       "\t<tr><th scope=col>&lt;dbl&gt;</th><th scope=col>&lt;int&gt;</th><th scope=col>&lt;fct&gt;</th><th scope=col>&lt;fct&gt;</th><th scope=col>&lt;fct&gt;</th><th scope=col>&lt;fct&gt;</th><th scope=col>&lt;fct&gt;</th><th scope=col>&lt;fct&gt;</th><th scope=col>&lt;fct&gt;</th><th scope=col>&lt;int&gt;</th><th scope=col>⋯</th><th scope=col>&lt;dbl&gt;</th><th scope=col>&lt;chr&gt;</th><th scope=col>&lt;dbl&gt;</th><th scope=col>&lt;dbl&gt;</th><th scope=col>&lt;dbl&gt;</th><th scope=col>&lt;dbl&gt;</th><th scope=col>&lt;dbl&gt;</th><th scope=col>&lt;dbl&gt;</th><th scope=col>&lt;dbl&gt;</th><th scope=col>&lt;dbl&gt;</th></tr>\n",
       "</thead>\n",
       "<tbody>\n",
       "\t<tr><td>4.813500e+14</td><td>   1</td><td>48329</td><td>NA</td><td>600000130110</td><td>NA</td><td>NA</td><td>NA</td><td>NA</td><td>NA</td><td>⋯</td><td>9</td><td>10</td><td> 42400.73</td><td>0.0000000</td><td>       NA</td><td>0</td><td>NA</td><td>0</td><td>0</td><td> 144.24158</td></tr>\n",
       "\t<tr><td>4.817395e+14</td><td>2673</td><td>48329</td><td>NA</td><td>036300172000</td><td>NA</td><td>NA</td><td>NA</td><td>NA</td><td>NA</td><td>⋯</td><td>9</td><td>10</td><td> 45473.33</td><td>0.0000000</td><td>2.0620586</td><td>0</td><td>NA</td><td>0</td><td>0</td><td>  46.21117</td></tr>\n",
       "\t<tr><td>4.817395e+14</td><td>3640</td><td>48329</td><td>NA</td><td>NA          </td><td>NA</td><td>NA</td><td>NA</td><td>NA</td><td>NA</td><td>⋯</td><td>9</td><td>10</td><td>261950.00</td><td>0.1898664</td><td>       NA</td><td>1</td><td>NA</td><td>0</td><td>0</td><td> 324.81875</td></tr>\n",
       "\t<tr><td>4.831795e+14</td><td> 479</td><td>48329</td><td>NA</td><td>038100090050</td><td>NA</td><td>NA</td><td>NA</td><td>NA</td><td>NA</td><td>⋯</td><td>9</td><td>10</td><td>114673.89</td><td>0.0000000</td><td>7.2675829</td><td>0</td><td>NA</td><td>0</td><td>0</td><td>  53.18216</td></tr>\n",
       "\t<tr><td>4.831795e+14</td><td>6112</td><td>48329</td><td>NA</td><td>038100090060</td><td>NA</td><td>NA</td><td>NA</td><td>NA</td><td>NA</td><td>⋯</td><td>9</td><td>10</td><td>114556.29</td><td>0.0000000</td><td>0.1164135</td><td>0</td><td>NA</td><td>0</td><td>0</td><td>1485.52636</td></tr>\n",
       "\t<tr><td>4.831795e+14</td><td>8917</td><td>48329</td><td>NA</td><td>038100090050</td><td>NA</td><td>NA</td><td>NA</td><td>NA</td><td>NA</td><td>⋯</td><td>9</td><td>10</td><td> 49207.59</td><td>0.2819637</td><td>8.0830786</td><td>1</td><td>NA</td><td>0</td><td>0</td><td>  84.57822</td></tr>\n",
       "</tbody>\n",
       "</table>\n"
      ],
      "text/latex": [
       "A data.frame: 6 × 213\n",
       "\\begin{tabular}{r|lllllllllllllllllllllllllllllllllllllllllllllllllllllllllllllllllllllllllllllllllllllllllllllllllllllllllllllllllllllllllllllllllllllllllllllllllllllllllllllllllllllllllllllllllllllllllllllllllllllllllllllllllllll}\n",
       " census\\_blo & id & geoid & sourceagen & parcelnumb & usecode & usedesc & zoning & zoning\\_des & struct & multistruc & structno & yearbuilt & numstories & numunits & structstyl & parvaltype & improvval & landval & parval & agval & saleprice & saledate & taxamt & owntype & owner & ownfrst & ownlast & owner2 & owner3 & owner4 & subsurfown & subowntype & mailadd & mail\\_addre & careof & mail\\_addno & mail\\_addpr & mail\\_addst & mail\\_add\\_1 & mail\\_add\\_2 & mail\\_unit & mail\\_city & mail\\_state & mail\\_zip & mail\\_count & mail\\_urban & address & address2 & saddno & saddpref & saddstr & saddsttyp & saddstsuf & sunit & scity & original\\_a & city & county & state2 & szip & urbanizati & location\\_n & address\\_so & legaldesc & plat & book & page & block & lot & neighborho & subdivisio & qoz & qoz\\_tract & census\\_tra & census\\_b\\_1 & sourceref & sourcedate & sourceurl & recrdareat & recrdarean & gisacre & sqft & ll\\_gisacre & ll\\_gissqft & ll\\_bldg\\_fo & ll\\_bldg\\_co & cdl\\_raw & cdl\\_majori & cdl\\_majo\\_1 & cdl\\_date & reviseddat & path & ll\\_stable\\_ & ll\\_uuid & ll\\_updated & dpv\\_status & dpv\\_codes & dpv\\_notes & dpv\\_type & cass\\_error & rdi & usps\\_vacan & usps\\_vac\\_1 & lbcs\\_activ & lbcs\\_act\\_1 & lbcs\\_funct & lbcs\\_fun\\_1 & lbcs\\_struc & lbcs\\_str\\_1 & lbcs\\_site & lbcs\\_site\\_ & lbcs\\_owner & lbcs\\_own\\_1 & mopin\\_plus & sw\\_area & sw\\_tier & comments\\_ & northstari & northstarf & pin\\_1 & subno & prop\\_value & grantee\\_su & pd\\_num & su\\_num & map\\_num & exempt & county\\_lan & short\\_r & geo\\_id & pin\\_2 & lat & lon & taxyear & dist\\_Ag\\_forest & dist\\_Alfalfa & dist\\_Cotton & dist\\_Dev\\_High & dist\\_Dev\\_Low & dist\\_Dev\\_Med & dist\\_Dev\\_OS & dist\\_E\\_Power & dist\\_indust & dist\\_natural\\_gas & dist\\_natural\\_res & dist\\_Other\\_Hay & dist\\_park\\_act & dist\\_Petrochem & dist\\_power & dist\\_rec\\_parks & dist\\_Sorghum & dist\\_Tele\\_Broad & dist\\_telecom & dist\\_Wholesale & dist\\_Winter\\_Wheat & dist\\_Woody\\_Wet & lbcs\\_act\\_1\\_House & lbcs\\_act\\_1\\_Indust & lbcs\\_act\\_1\\_Natural\\_gas & lbcs\\_act\\_1\\_Natural\\_res & lbcs\\_act\\_1\\_none & lbcs\\_act\\_1\\_Power\\_gen & lbcs\\_act\\_1\\_parks\\_act & lbcs\\_act\\_1\\_Shop & lbcs\\_act\\_1\\_Telecom & cdl\\_majori\\_Alfalfa & cdl\\_majori\\_Cotton & cdl\\_majori\\_Dev\\_High & cdl\\_majori\\_Dev\\_Low & cdl\\_majori\\_Dev\\_Med & cdl\\_majori\\_Dev\\_OS & cdl\\_majori\\_none & cdl\\_majori\\_Other\\_Hay & cdl\\_majori\\_Shrubland & cdl\\_majori\\_Sorghum & cdl\\_majori\\_Winter\\_Wheat & cdl\\_majori\\_Woody\\_Wet & lbcs\\_fun\\_1\\_Ag\\_forest & lbcs\\_fun\\_1\\_E\\_power & lbcs\\_fun\\_1\\_Gen\\_serv & lbcs\\_fun\\_1\\_wholesale & lbcs\\_fun\\_1\\_rec\\_parks & lbcs\\_fun\\_1\\_Natural\\_gas & lbcs\\_fun\\_1\\_none & lbcs\\_fun\\_1\\_Pri\\_house & lbcs\\_fun\\_1\\_Tele\\_broad & elem\\_dist & elem\\_School\\_Name & elem\\_rating & elem\\_scores & elem\\_student\\_prog & elem\\_equity & middle\\_dist & middle\\_School\\_Name & middle\\_rating & middle\\_scores & middle\\_student\\_prog & middle\\_equity & high\\_dist & high\\_School\\_Name & high\\_rating & high\\_scores & high\\_student\\_prog & high\\_equity & mean\\_nb\\_PropV & pct\\_struct & parval\\_sqft & has\\_struct & Group.1 & maxaddown & maxadup & dist\\_shop\\\\\n",
       " <dbl> & <int> & <fct> & <fct> & <fct> & <fct> & <fct> & <fct> & <fct> & <int> & <int> & <int> & <int> & <dbl> & <int> & <fct> & <fct> & <dbl> & <dbl> & <dbl> & <dbl> & <dbl> & <fct> & <dbl> & <fct> & <fct> & <fct> & <fct> & <fct> & <fct> & <fct> & <fct> & <fct> & <fct> & <fct> & <fct> & <fct> & <fct> & <fct> & <fct> & <fct> & <fct> & <fct> & <fct> & <fct> & <fct> & <fct> & <fct> & <fct> & <fct> & <fct> & <fct> & <fct> & <fct> & <fct> & <fct> & <fct> & <fct> & <fct> & <fct> & <fct> & <fct> & <fct> & <fct> & <fct> & <fct> & <fct> & <fct> & <fct> & <fct> & <fct> & <fct> & <fct> & <fct> & <fct> & <fct> & <fct> & <fct> & <fct> & <fct> & <dbl> & <dbl> & <dbl> & <dbl> & <dbl> & <dbl> & <int> & <fct> & <fct> & <dbl> & <fct> & <fct> & <fct> & <fct> & <fct> & <fct> & <fct> & <fct> & <fct> & <fct> & <fct> & <fct> & <fct> & <fct> & <dbl> & <fct> & <dbl> & <chr> & <dbl> & <fct> & <dbl> & <fct> & <dbl> & <fct> & <fct> & <fct> & <fct> & <fct> & <fct> & <fct> & <fct> & <fct> & <dbl> & <fct> & <fct> & <fct> & <fct> & <fct> & <fct> & <fct> & <fct> & <fct> & <fct> & <fct> & <fct> & <dbl> & <dbl> & <dbl> & <dbl> & <dbl> & <dbl> & <dbl> & <dbl> & <dbl> & <dbl> & <dbl> & <dbl> & <dbl> & <dbl> & <dbl> & <dbl> & <dbl> & <dbl> & <dbl> & <dbl> & <dbl> & <dbl> & <dbl> & <dbl> & <dbl> & <dbl> & <dbl> & <dbl> & <dbl> & <dbl> & <dbl> & <dbl> & <dbl> & <dbl> & <dbl> & <dbl> & <dbl> & <dbl> & <dbl> & <dbl> & <dbl> & <dbl> & <dbl> & <dbl> & <dbl> & <dbl> & <dbl> & <dbl> & <dbl> & <dbl> & <dbl> & <dbl> & <dbl> & <chr> & <dbl> & <dbl> & <dbl> & <chr> & <dbl> & <chr> & <dbl> & <dbl> & <dbl> & <chr> & <dbl> & <chr> & <dbl> & <dbl> & <dbl> & <chr> & <dbl> & <dbl> & <dbl> & <dbl> & <dbl> & <dbl> & <dbl> & <dbl>\\\\\n",
       "\\hline\n",
       "\t 4.813500e+14 &    1 & 48329 & NA & 600000130110 & NA & NA & NA & NA & NA & NA & NA & NA & NA & NA & NA & PROPERTY & NA & NA &    NA & NA & NA & NA         & NA & NA & NA                        & NA & NA & NA & NA & NA & NA & NA & NA                    & NA & NA & NA & NA & NA & NA & NA & NA & NA             & NA & NA    & NA & NA & NA & NA & NA & NA & NA & NA & NA & NA & NA      & n        & midland       & midland & tx & 79707 & NA & NA & county               & NA                                    & NA & NA & NA & NA & NA   & NA & NA & No & NA & 48135003002 & 481350030021 & NA & NA & NA & NA & NA &    NA &      NA &  0.01062 & 19105 &   NA & 0 & NA                                               & NA        &   NA & NA   & 2020/01/08 & /us/tx/midland/midland/55473       & preserved & 74876702-032f-4c39-a0a1-b8d0b6bf296a & 2022/02/22 & NA & NA & NA & NA & NA & NA & NA & NA & NA & NA & NA & none & NA & NA & NA & NA & NA & NA & NA & NA & NA     & NA & NA & NA & NA           & NA    &    NA & NA & NA & NA & NA  & NA & NA & NA      & NA                & NA           & 32.033696 & -102.287018 & NA &  257.5040 & 47617.87 & 2057.3406 & 11951.211 &  1070.2671 &  6309.156 &  4905.070 & 18808.454 &  762.2357 & 23450.47 &  257.5040 & 44508.288 & 11683.785 & 23450.47 & 18808.454 & 11683.785 & 23140.02 & 13123.527 & 13123.527 &  762.2357 & 39952.76 & 17015.77 & 0 & 0 & 0 & 0 & 1 & 0 & 0 & 0 & 0 & 0 & 0 & 0 & 0 & 0 & 0 & 1 & 0 & 0 & 0 & 0 & 0 & 0 & 0 & 0 & 0 & 0 & 0 & 1 & 0 & 0 &  463.8292 & Carver Center                          & 9 & 10 & 8 & 10 & 10825.8979 & James R Brooks Middle School & 4 & 5 & 5 & 3 & 1526.4239 & Early College High School At Midland College & 10 & 9 & 9 & 10 &  42400.73 & 0.0000000 &        NA & 0 & NA & 0 & 0 &  144.24158\\\\\n",
       "\t 4.817395e+14 & 2673 & 48329 & NA & 036300172000 & NA & NA & NA & NA & NA & NA & NA & NA & NA & NA & NA & PROPERTY &  0 & NA & 17810 & NA & NA & 1901/01/01 & NA & NA & MIDLAND CITY OF           & NA & NA & NA & NA & NA & NA & NA & PO BOX 1152           & NA & NA & NA & NA & NA & NA & NA & NA & MIDLAND        & TX & 79702 & NA & NA & NA & NA & n  & NA & NA & NA & NA & NA & NA      & n; 79706 & midland-south & midland & tx & 79706 & NA & NA & county               & W/2 SEC: 17 BLK: 36-T3S               & NA & NA & NA & 17 & 2000 & NA & NA & No & NA & 48173950100 & 481739501002 & NA & NA & NA & NA & NA & 35.61 & 1551172 & 40.75121 &  8637 &   NA & 0 & {[}{[}152, 97.8{]}, {[}121, 1.1{]}, {[}61, 0.5{]}, {[}195, 0.5{]}{]} & Shrubland & 97.8 & 2020 & 2020/01/08 & /us/tx/midland/midland-south/68114 & NA        & 61094eb2-824c-44ac-ac87-e72750e6f7cc & 2022/02/22 & NA & NA & NA & NA & NA & NA & NA & NA & NA & NA & NA & none & NA & NA & NA & NA & NA & NA & NA & NA & NA     & NA & NA & NA & 036300172000 & 03630 & 17810 & NA & NA & NA & V29 & NA & NA & R1454   & 00003630.017.2000 & 036300172000 & 31.894960 & -101.773562 & NA & 3096.9249 & 20886.27 & 6416.2687 & 25250.153 & 24169.5133 & 18724.913 & 18293.471 & 23688.079 & 4779.8958 & 27551.53 & 3096.9249 &  5230.618 & 29090.154 & 27551.53 & 23688.079 & 29090.154 & 16048.78 & 28980.218 & 28980.218 & 4779.8958 & 15949.67 & 34144.91 & 0 & 0 & 0 & 0 & 1 & 0 & 0 & 0 & 0 & 0 & 0 & 0 & 0 & 0 & 0 & 0 & 0 & 1 & 0 & 0 & 0 & 0 & 0 & 0 & 0 & 0 & 0 & 1 & 0 & 0 &  503.0825 & General Tommy Franks Elementary School & 7 &  7 & 6 & 7  & 10159.7023 & James R Brooks Middle School & 4 & 5 & 5 & 3 & 2313.5915 & Early College High School At Midland College & 10 & 9 & 9 & 10 &  45473.33 & 0.0000000 & 2.0620586 & 0 & NA & 0 & 0 &   46.21117\\\\\n",
       "\t 4.817395e+14 & 3640 & 48329 & NA & NA           & NA & NA & NA & NA & NA & NA & NA & NA & NA & NA & NA & PROPERTY & NA & NA &    NA & NA & NA & NA         & NA & NA & NA                        & NA & NA & NA & NA & NA & NA & NA & NA                    & NA & NA & NA & NA & NA & NA & NA & NA & NA             & NA & NA    & NA & NA & NA & NA & NA & NA & NA & NA & NA & NA & NA      & NA       & midland-south & midland & tx & NA    & NA & NA & county               & NA                                    & NA & NA & NA & NA & NA   & NA & NA & No & NA & 48173950100 & 481739501002 & NA & NA & NA & NA & NA &    NA &      NA & 86.67988 & 16243 & 3084 & 2 & {[}{[}152, 80.2{]}, {[}121, 19.5{]}, {[}4, 0.3{]}{]}             & Shrubland & 80.2 & 2020 & 2020/01/08 & /us/tx/midland/midland-south/68109 & NA        & 016a0c65-8892-453a-ba35-66d1910f52a0 & 2022/02/22 & NA & NA & NA & NA & NA & NA & NA & NA & NA & NA & NA & none & NA & NA & NA & NA & NA & NA & NA & NA & NA     & NA & NA & NA & NA           & NA    &    NA & NA & NA & NA & NA  & NA & NA & NA      & NA                & NA           & 31.863928 & -101.774305 & NA & 4359.1897 & 24319.44 & 9845.6317 & 26608.850 & 22137.9442 & 21474.557 & 21034.698 & 24805.607 & 2316.8412 & 28889.33 & 4359.1897 &  6466.908 & 30358.632 & 28889.33 & 24805.607 & 30358.632 & 19197.82 & 30595.064 & 30595.064 & 2316.8412 & 18906.76 & 35057.13 & 0 & 0 & 0 & 0 & 1 & 0 & 0 & 0 & 0 & 0 & 0 & 0 & 0 & 0 & 0 & 0 & 0 & 1 & 0 & 0 & 0 & 0 & 0 & 0 & 0 & 0 & 0 & 1 & 0 & 0 &  391.8898 & General Tommy Franks Elementary School & 7 &  7 & 6 & 7  &  5660.3912 & James R Brooks Middle School & 4 & 5 & 5 & 3 & 3848.0976 & Early College High School At Midland College & 10 & 9 & 9 & 10 & 261950.00 & 0.1898664 &        NA & 1 & NA & 0 & 0 &  324.81875\\\\\n",
       "\t 4.831795e+14 &  479 & 48329 & NA & 038100090050 & NA & NA & NA & NA & NA & NA & NA & NA & NA & NA & NA & PROPERTY &  0 & NA & 89900 & NA & NA & 2014/12/16 & NA & NA & BRYSON HOY LEE JR         & NA & NA & NA & NA & NA & NA & NA & 6708 N COUNTY RD 1150 & NA & NA & NA & NA & NA & NA & NA & NA & MIDLAND        & TX & 79705 & NA & NA & NA & NA & n  & NA & NA & NA & NA & NA & Midland & n        & midland       & midland & tx & 79782 & NA & NA & county,census\\_places & 8.99 AC OUT OF W/2 SEC: 9 BLK: 38-T1S & NA & NA & NA & 9  & 50   & NA & NA & No & NA & 48317950100 & 483179501001 & NA & NA & NA & NA & NA &  8.99 &  391604 &  5.57723 & 12370 &   NA & 0 & NA                                               & NA        &   NA & NA   & 2021/01/21 & /us/tx/midland/midland/69712       & NA        & ded8b483-156c-430e-a671-156f01ef0247 & 2022/02/22 & NA & NA & NA & NA & NA & NA & NA & NA & NA & NA & NA & none & NA & NA & NA & NA & NA & NA & NA & NA & DNOCHG & NA & NA & NA & 038100090050 & 03810 & 89900 & NA & NA & NA & Q38 & NA & NA & R185415 & 00003810.009.0050 & 038100090050 & 32.087346 & -102.038619 & NA &  430.1516 & 23818.17 &  354.0349 &  5241.344 &   875.2925 &  6568.269 &  1726.899 &  6102.406 &  509.9129 & 11610.15 &  430.1516 & 28052.801 &  5907.177 & 11610.15 &  6102.406 &  5907.177 & 14090.20 &  8630.346 &  8630.346 &  509.9129 & 18236.68 & 15537.71 & 0 & 0 & 0 & 0 & 1 & 0 & 0 & 0 & 0 & 0 & 0 & 0 & 0 & 0 & 0 & 1 & 0 & 0 & 0 & 0 & 0 & 0 & 0 & 0 & 0 & 0 & 0 & 1 & 0 & 0 &  764.9086 & Carver Center                          & 9 & 10 & 8 & 10 &  4343.9085 & James R Brooks Middle School & 4 & 5 & 5 & 3 &  987.5479 & Early College High School At Midland College & 10 & 9 & 9 & 10 & 114673.89 & 0.0000000 & 7.2675829 & 0 & NA & 0 & 0 &   53.18216\\\\\n",
       "\t 4.831795e+14 & 6112 & 48329 & NA & 038100090060 & NA & NA & NA & NA & NA & NA & NA & NA & NA & NA & NA & PROPERTY &  0 & NA &  1510 & NA & NA & 2017/12/08 & NA & NA & NEVILLES CHRISTOPHER CODY & NA & NA & NA & NA & NA & NA & NA & PO BOX 260060         & NA & NA & NA & NA & NA & NA & NA & NA & CORPUS CHRISTI & TX & 78426 & NA & NA & NA & NA & NA & NA & NA & NA & NA & NA & Midland & n        & midland       & midland & tx & 79782 & NA & NA & county,census\\_places & W/2 SEC: 9 BLK: 38-T1S                & NA & NA & NA & 9  & 60   & NA & NA & No & NA & 48317950100 & 483179501001 & NA & NA & NA & NA & NA &  8.83 &  384635 &  5.98278 & 12971 &   NA & 0 & NA                                               & NA        &   NA & NA   & 2020/02/28 & /us/tx/midland/midland/63454       & preserved & c6d46e4a-76d9-4dd2-842e-fc7d2fa1f1c3 & 2022/02/22 & NA & NA & NA & NA & NA & NA & NA & NA & NA & NA & NA & none & NA & NA & NA & NA & NA & NA & NA & NA & DNOCHG & NA & NA & NA & 038100090060 & 03810 &  1510 & NA & NA & NA & Q38 & NA & NA & R211123 & 00003810.009.0060 & 038100090060 & 32.088430 & -102.039031 & NA &  443.3734 & 23858.70 &  230.0450 &  5289.464 &   989.2459 &  6693.165 &  1853.265 &  6221.013 &  636.2618 & 11727.87 &  443.3734 & 28169.296 &  5994.210 & 11727.87 &  6221.013 &  5994.210 & 14204.69 &  8745.645 &  8745.645 &  636.2618 & 18324.02 & 15620.26 & 0 & 0 & 0 & 0 & 1 & 0 & 0 & 0 & 0 & 0 & 0 & 0 & 0 & 0 & 0 & 1 & 0 & 0 & 0 & 0 & 0 & 0 & 0 & 0 & 0 & 0 & 0 & 1 & 0 & 0 & 1026.3965 & Greathouse Elementary School           & 6 &  6 & 7 & 5  &  2519.9887 & Goddard J High School        & 4 & 4 & 4 & 3 & 1871.7905 & Early College High School At Midland College & 10 & 9 & 9 & 10 & 114556.29 & 0.0000000 & 0.1164135 & 0 & NA & 0 & 0 & 1485.52636\\\\\n",
       "\t 4.831795e+14 & 8917 & 48329 & NA & 038100090050 & NA & NA & NA & NA & NA & NA & NA & NA & NA & NA & NA & PROPERTY &  0 & NA & 89900 & NA & NA & 2014/12/16 & NA & NA & BRYSON HOY LEE JR         & NA & NA & NA & NA & NA & NA & NA & 6708 N COUNTY RD 1150 & NA & NA & NA & NA & NA & NA & NA & NA & MIDLAND        & TX & 79705 & NA & NA & NA & NA & n  & NA & NA & NA & NA & NA & Midland & n        & midland       & midland & tx & 79782 & NA & NA & county,census\\_places & 8.99 AC OUT OF W/2 SEC: 9 BLK: 38-T1S & NA & NA & NA & 9  & 50   & NA & NA & No & NA & 48317950100 & 483179501001 & NA & NA & NA & NA & NA &  8.99 &  391604 &  5.00806 & 11122 & 3136 & 3 & NA                                               & NA        &   NA & NA   & 2020/02/28 & /us/tx/midland/midland/70203       & NA        & 4f6539b2-64f5-4911-8e1f-71193cfb4238 & 2022/02/22 & NA & NA & NA & NA & NA & NA & NA & NA & NA & NA & NA & none & NA & NA & NA & NA & NA & NA & NA & NA & DNOCHG & NA & NA & NA & 038100090050 & 03810 & 89900 & NA & NA & NA & Q38 & NA & NA & R185415 & 00003810.009.0050 & 038100090050 & 32.089430 & -102.038843 & NA &  524.1963 & 23842.97 &  123.4871 &  5375.972 &  1101.2981 &  6784.555 &  1954.339 &  6298.016 &  737.1677 & 11839.49 &  524.1963 & 28241.845 &  6100.412 & 11839.49 &  6298.016 &  6100.412 & 14316.81 &  8857.684 &  8857.684 &  737.1677 & 18356.79 & 15724.35 & 0 & 0 & 0 & 0 & 1 & 0 & 0 & 0 & 0 & 0 & 0 & 0 & 0 & 0 & 0 & 1 & 0 & 0 & 0 & 0 & 0 & 0 & 0 & 0 & 0 & 0 & 0 & 1 & 0 & 0 &  762.4150 & James Bowie Fine Arts Academy          & 5 &  6 & 4 & 5  &   536.8111 & Goddard J High School        & 4 & 4 & 4 & 3 & 1174.9803 & Early College High School At Midland College & 10 & 9 & 9 & 10 &  49207.59 & 0.2819637 & 8.0830786 & 1 & NA & 0 & 0 &   84.57822\\\\\n",
       "\\end{tabular}\n"
      ],
      "text/markdown": [
       "\n",
       "A data.frame: 6 × 213\n",
       "\n",
       "| census_blo &lt;dbl&gt; | id &lt;int&gt; | geoid &lt;fct&gt; | sourceagen &lt;fct&gt; | parcelnumb &lt;fct&gt; | usecode &lt;fct&gt; | usedesc &lt;fct&gt; | zoning &lt;fct&gt; | zoning_des &lt;fct&gt; | struct &lt;int&gt; | ⋯ ⋯ | high_student_prog &lt;dbl&gt; | high_equity &lt;chr&gt; | mean_nb_PropV &lt;dbl&gt; | pct_struct &lt;dbl&gt; | parval_sqft &lt;dbl&gt; | has_struct &lt;dbl&gt; | Group.1 &lt;dbl&gt; | maxaddown &lt;dbl&gt; | maxadup &lt;dbl&gt; | dist_shop &lt;dbl&gt; |\n",
       "|---|---|---|---|---|---|---|---|---|---|---|---|---|---|---|---|---|---|---|---|---|\n",
       "| 4.813500e+14 |    1 | 48329 | NA | 600000130110 | NA | NA | NA | NA | NA | ⋯ | 9 | 10 |  42400.73 | 0.0000000 |        NA | 0 | NA | 0 | 0 |  144.24158 |\n",
       "| 4.817395e+14 | 2673 | 48329 | NA | 036300172000 | NA | NA | NA | NA | NA | ⋯ | 9 | 10 |  45473.33 | 0.0000000 | 2.0620586 | 0 | NA | 0 | 0 |   46.21117 |\n",
       "| 4.817395e+14 | 3640 | 48329 | NA | NA           | NA | NA | NA | NA | NA | ⋯ | 9 | 10 | 261950.00 | 0.1898664 |        NA | 1 | NA | 0 | 0 |  324.81875 |\n",
       "| 4.831795e+14 |  479 | 48329 | NA | 038100090050 | NA | NA | NA | NA | NA | ⋯ | 9 | 10 | 114673.89 | 0.0000000 | 7.2675829 | 0 | NA | 0 | 0 |   53.18216 |\n",
       "| 4.831795e+14 | 6112 | 48329 | NA | 038100090060 | NA | NA | NA | NA | NA | ⋯ | 9 | 10 | 114556.29 | 0.0000000 | 0.1164135 | 0 | NA | 0 | 0 | 1485.52636 |\n",
       "| 4.831795e+14 | 8917 | 48329 | NA | 038100090050 | NA | NA | NA | NA | NA | ⋯ | 9 | 10 |  49207.59 | 0.2819637 | 8.0830786 | 1 | NA | 0 | 0 |   84.57822 |\n",
       "\n"
      ],
      "text/plain": [
       "  census_blo   id   geoid sourceagen parcelnumb   usecode usedesc zoning\n",
       "1 4.813500e+14    1 48329 NA         600000130110 NA      NA      NA    \n",
       "2 4.817395e+14 2673 48329 NA         036300172000 NA      NA      NA    \n",
       "3 4.817395e+14 3640 48329 NA         NA           NA      NA      NA    \n",
       "4 4.831795e+14  479 48329 NA         038100090050 NA      NA      NA    \n",
       "5 4.831795e+14 6112 48329 NA         038100090060 NA      NA      NA    \n",
       "6 4.831795e+14 8917 48329 NA         038100090050 NA      NA      NA    \n",
       "  zoning_des struct ⋯ high_student_prog high_equity mean_nb_PropV pct_struct\n",
       "1 NA         NA     ⋯ 9                 10           42400.73     0.0000000 \n",
       "2 NA         NA     ⋯ 9                 10           45473.33     0.0000000 \n",
       "3 NA         NA     ⋯ 9                 10          261950.00     0.1898664 \n",
       "4 NA         NA     ⋯ 9                 10          114673.89     0.0000000 \n",
       "5 NA         NA     ⋯ 9                 10          114556.29     0.0000000 \n",
       "6 NA         NA     ⋯ 9                 10           49207.59     0.2819637 \n",
       "  parval_sqft has_struct Group.1 maxaddown maxadup dist_shop \n",
       "1        NA   0          NA      0         0        144.24158\n",
       "2 2.0620586   0          NA      0         0         46.21117\n",
       "3        NA   1          NA      0         0        324.81875\n",
       "4 7.2675829   0          NA      0         0         53.18216\n",
       "5 0.1164135   0          NA      0         0       1485.52636\n",
       "6 8.0830786   1          NA      0         0         84.57822"
      ]
     },
     "metadata": {},
     "output_type": "display_data"
    }
   ],
   "source": [
    "mid_complete <- rbind(mid_1,mid_2)\n",
    "length(mid_complete)\n",
    "head(mid_complete)"
   ]
  },
  {
   "cell_type": "code",
   "execution_count": null,
   "metadata": {},
   "outputs": [],
   "source": []
  }
 ],
 "metadata": {
  "kernelspec": {
   "display_name": "R",
   "language": "R",
   "name": "ir"
  },
  "language_info": {
   "codemirror_mode": "r",
   "file_extension": ".r",
   "mimetype": "text/x-r-source",
   "name": "R",
   "pygments_lexer": "r",
   "version": "3.5.1"
  }
 },
 "nbformat": 4,
 "nbformat_minor": 2
}
