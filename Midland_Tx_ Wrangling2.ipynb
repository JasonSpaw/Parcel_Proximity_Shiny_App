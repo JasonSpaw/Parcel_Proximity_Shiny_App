{
 "cells": [
  {
   "cell_type": "markdown",
   "metadata": {},
   "source": [
    "This notebook is to append all that were not a able to be added in the wrangling notebook, due to memory issues."
   ]
  },
  {
   "cell_type": "code",
   "execution_count": null,
   "metadata": {},
   "outputs": [],
   "source": [
    "## Load relevant R packages.\n",
    "inLibraries = list('repr','rgdal','spdep','rgeos', 'sf', 'dplyr', 'tidyr', 'leaflet', 'maptools', 'htmlwidgets', 'RColorBrewer',\n",
    "                   'ggplot2', 'sp', 'maps', 'mapproj', 'mapdata', 'geosphere', 'raster', 'stringr','classInt', 'readxl',\n",
    "                   'GISTools', 'spatstat')\n",
    "\n",
    "for (rpack in inLibraries) {\n",
    "  if (is.element(rpack,installed.packages()[,1])){\n",
    "      #Load the library into R\n",
    "      suppressMessages(library(rpack,character.only = TRUE))\n",
    "    }\n",
    "    else {\n",
    "        print(paste(\"Warning:  \",rpack,\" is not an installed package\"))\n",
    "    }\n",
    "}\n",
    "\n",
    "## Resize plot area.\n",
    "options(repr.plot.width=6, repr.plot.height=6)"
   ]
  },
  {
   "cell_type": "code",
   "execution_count": null,
   "metadata": {},
   "outputs": [],
   "source": [
    "# read in midland parcel baorder boundaries.\n",
    "mid_parcel <- readOGR(\"/dsa/groups/capstonesp2022/online/group_8/01_raw/parcel\", \"tx_midland\")\n",
    "\n",
    "summary(mid_parcel@data)"
   ]
  },
  {
   "cell_type": "code",
   "execution_count": null,
   "metadata": {},
   "outputs": [],
   "source": [
    "colnames(mid_parcel@data)"
   ]
  },
  {
   "cell_type": "code",
   "execution_count": null,
   "metadata": {
    "scrolled": true
   },
   "outputs": [],
   "source": [
    "dist_Ag_forest <- readRDS (\"dist_Ag_forest\")\n",
    "dist_Alfalfa <- readRDS (\"dist_Alfalfa\")\n",
    "dist_Cotton <- readRDS (\"dist_Cotton\")\n",
    "dist_Dev_High <- readRDS (\"dist_Dev_High\")\n",
    "dist_Dev_Low <- readRDS (\"dist_Dev_Low\")\n",
    "dist_Dev_Med <- readRDS (\"dist_Dev_Med\")\n",
    "dist_Dev_OS <- readRDS (\"dist_Dev_OS\")\n",
    "dist_E_Power <- readRDS (\"dist_E_Power\")\n",
    "dist_indust <- readRDS (\"dist_indust\")\n",
    "dist_natural_gas <- readRDS (\"dist_natural_gas\")\n",
    "dist_natural_res <- readRDS (\"dist_natural_res\")\n",
    "dist_Other_Hay <- readRDS (\"dist_Other_Hay\")\n",
    "dist_park_act <- readRDS (\"dist_park_act\")\n",
    "dist_Petrochem <- readRDS (\"dist_Petrochem\")\n",
    "dist_power <- readRDS (\"dist_power\")\n",
    "dist_rec_parks <- readRDS (\"dist_rec_parks\")\n",
    "dist_Sorghum <- readRDS (\"dist_Sorghum\")\n",
    "dist_Tele_Broad <- readRDS (\"dist_Tele_Broad\")\n",
    "dist_telecom <- readRDS (\"dist_telecom\")\n",
    "dist_Wholesale <- readRDS (\"dist_Wholesale\")\n",
    "dist_Winter_Wheat <- readRDS (\"dist_Winter_Wheat\")\n",
    "dist_Woody_Wet <- readRDS (\"dist_Woody_Wet\")\n",
    "\n",
    "length(dist_Ag_forest)\n",
    "length(dist_Alfalfa)\n",
    "length(dist_Cotton)\n",
    "length(dist_Dev_High)\n",
    "length(dist_Dev_Low)\n",
    "length(dist_Dev_Med)\n",
    "length(dist_Dev_OS)\n",
    "length(dist_E_Power)\n",
    "length(dist_indust)\n",
    "length(dist_natural_gas)\n",
    "length(dist_natural_res)\n",
    "length(dist_Other_Hay)\n",
    "length(dist_park_act)\n",
    "length(dist_Petrochem)\n",
    "length(dist_power)\n",
    "length(dist_rec_parks)\n",
    "length(dist_Sorghum)\n",
    "length(dist_Tele_Broad)\n",
    "length(dist_telecom)\n",
    "length(dist_Wholesale)\n",
    "length(dist_Winter_Wheat)\n",
    "length(dist_Woody_Wet)\n",
    "length(mid_parcel)\n"
   ]
  },
  {
   "cell_type": "code",
   "execution_count": null,
   "metadata": {},
   "outputs": [],
   "source": [
    "mid_parcel@data$dist_Ag_forest <- unlist(dist_Ag_forest)\n",
    "mid_parcel@data$dist_Alfalfa <- unlist(dist_Alfalfa)\n",
    "mid_parcel@data$dist_Cotton <- unlist(dist_Cotton)\n",
    "mid_parcel@data$dist_Dev_High <- unlist(dist_Dev_High)\n",
    "mid_parcel@data$dist_Dev_Low <- unlist(dist_Dev_Low)\n",
    "mid_parcel@data$dist_Dev_Med <- unlist(dist_Dev_Med)\n",
    "mid_parcel@data$dist_Dev_OS <- unlist(dist_Dev_OS)\n",
    "mid_parcel@data$dist_E_Power <- unlist(dist_E_Power)\n",
    "mid_parcel@data$dist_indust <- unlist(dist_indust)\n",
    "mid_parcel@data$dist_natural_gas <- unlist(dist_natural_gas)\n",
    "mid_parcel@data$dist_natural_res <- unlist(dist_natural_res)\n",
    "mid_parcel@data$dist_Other_Hay <- unlist(dist_Other_Hay)\n",
    "mid_parcel@data$dist_park_act <- unlist(dist_park_act)\n",
    "mid_parcel@data$dist_Petrochem <- unlist(dist_Petrochem)\n",
    "mid_parcel@data$dist_power <- unlist(dist_power)\n",
    "mid_parcel@data$dist_rec_parks <- unlist(dist_rec_parks)\n",
    "mid_parcel@data$dist_Sorghum <- unlist(dist_Sorghum)\n",
    "mid_parcel@data$dist_Tele_Broad <- unlist(dist_Tele_Broad)\n",
    "mid_parcel@data$dist_telecom <- unlist(dist_telecom)\n",
    "mid_parcel@data$dist_Wholesale <- unlist(dist_Wholesale)\n",
    "mid_parcel@data$dist_Winter_Wheat <- unlist(dist_Winter_Wheat)\n",
    "mid_parcel@data$dist_Woody_Wet <- unlist(dist_Woody_Wet)"
   ]
  },
  {
   "cell_type": "code",
   "execution_count": null,
   "metadata": {},
   "outputs": [],
   "source": [
    "head(mid_parcel@data)"
   ]
  },
  {
   "cell_type": "code",
   "execution_count": null,
   "metadata": {},
   "outputs": [],
   "source": [
    "print(\"Percent NA in $sqft\")\n",
    "length(mid_parcel$sqft[is.na(mid_parcel$sqft)])/length(mid_parcel)"
   ]
  },
  {
   "cell_type": "code",
   "execution_count": null,
   "metadata": {},
   "outputs": [],
   "source": [
    "## Create a data frame that contains available EPSG Codes.\n",
    "EPSG <- make_EPSG()\n",
    "\n",
    "## Find projections specific to Missouri.\n",
    "i <- grep(\"TEXAS Central\", EPSG$note, ignore.case=TRUE)\n",
    "\n",
    "EPSG[i, ]"
   ]
  },
  {
   "cell_type": "code",
   "execution_count": null,
   "metadata": {},
   "outputs": [],
   "source": [
    "mid_parcel2 <- mid_parcel"
   ]
  },
  {
   "cell_type": "code",
   "execution_count": null,
   "metadata": {},
   "outputs": [],
   "source": [
    "CRS.new <- CRS(\"+init=epsg:32039\")\n",
    "mid_parcel2 <- spTransform(mid_parcel2, CRS.new)\n",
    "proj4string(mid_parcel2)"
   ]
  },
  {
   "cell_type": "code",
   "execution_count": null,
   "metadata": {},
   "outputs": [],
   "source": [
    "# This cell is to recalculate the areas of polygons in sqft, due to NA's in the dataset\n",
    "p_areas <- list()\n",
    "for(i in 1:length(mid_parcel2)){\n",
    "    i_area <- area(mid_parcel2[i,])\n",
    "    p_areas <- append(p_areas, i_area)\n",
    "}\n",
    "\n",
    "head(p_areas)"
   ]
  },
  {
   "cell_type": "code",
   "execution_count": null,
   "metadata": {},
   "outputs": [],
   "source": [
    "# results of recalculated areas look close, I will accept them for use in my analysis\n",
    "head(unlist(p_areas))\n",
    "head(mid_parcel$sqft)"
   ]
  },
  {
   "cell_type": "code",
   "execution_count": null,
   "metadata": {},
   "outputs": [],
   "source": [
    "mid_parcel2$rc_sqft <- unlist(p_areas)\n",
    "head(mid_parcel2$rc_sqft)"
   ]
  },
  {
   "cell_type": "code",
   "execution_count": null,
   "metadata": {},
   "outputs": [],
   "source": [
    "# for now all NA's will be removed\n",
    "mid_parcel3 <- mid_parcel2[!is.na(mid_parcel2$prop_value),]\n",
    "length(mid_parcel3)\n",
    "length(mid_parcel2)"
   ]
  },
  {
   "cell_type": "code",
   "execution_count": null,
   "metadata": {},
   "outputs": [],
   "source": [
    "mid_parcel3$ll_gissqft <- as.numeric(mid_parcel3$ll_gissqft)\n",
    "mid_parcel3$prop_value_sqft <- mid_parcel3$prop_value/mid_parcel3$ll_gissqft\n",
    "mid_parcel3$parval_sqft <- mid_parcel3$parval/mid_parcel3$ll_gissqft\n",
    "\n",
    "head(mid_parcel3@data[, c(\"prop_value\", \"parval\", \"prop_value_sqft\", \"parval_sqft\", \"sqft\", \"ll_gissqft\", \"rc_sqft\")])"
   ]
  },
  {
   "cell_type": "markdown",
   "metadata": {},
   "source": [
    "## Add dummy classifiers for parcels"
   ]
  },
  {
   "cell_type": "code",
   "execution_count": null,
   "metadata": {},
   "outputs": [],
   "source": [
    "all_dummies <- readRDS (\"all_dummies\")\n",
    "head(all_dummies)"
   ]
  },
  {
   "cell_type": "code",
   "execution_count": null,
   "metadata": {},
   "outputs": [],
   "source": [
    "mid_parcel@data$id <- 1:nrow(mid_parcel)\n",
    "all_dummies$id <- 1:nrow(all_dummies)\n",
    "\n",
    "mid_parcel@data <- merge(mid_parcel@data, all_dummies, by = \"id\")\n",
    "head(mid_parcel@data)"
   ]
  },
  {
   "cell_type": "markdown",
   "metadata": {},
   "source": [
    "## Add school data"
   ]
  },
  {
   "cell_type": "code",
   "execution_count": null,
   "metadata": {},
   "outputs": [],
   "source": [
    "nearest_schools <- readRDS (\"nearest_schools\")\n",
    "head(nearest_schools)"
   ]
  },
  {
   "cell_type": "code",
   "execution_count": null,
   "metadata": {},
   "outputs": [],
   "source": [
    "nearest_schools$id <- 1:nrow(nearest_schools)\n",
    "\n",
    "mid_parcel@data <- merge(mid_parcel@data, nearest_schools, by = \"id\")\n",
    "head(mid_parcel@data)"
   ]
  },
  {
   "cell_type": "markdown",
   "metadata": {},
   "source": [
    "## Add mean property value for neighbors within a 1km radius"
   ]
  },
  {
   "cell_type": "code",
   "execution_count": null,
   "metadata": {},
   "outputs": [],
   "source": [
    "mean_nb_PropV <- readRDS (\"mean_nb_PropV\")\n",
    "head(mean_nb_PropV)"
   ]
  },
  {
   "cell_type": "code",
   "execution_count": null,
   "metadata": {},
   "outputs": [],
   "source": [
    "mid_parcel@data$mean_nb_PropV <- mean_nb_PropV\n",
    "head(mid_parcel@data)"
   ]
  },
  {
   "cell_type": "markdown",
   "metadata": {},
   "source": [
    "## Generate the percent of structure footprint and parcel value per squarefoot\n",
    "- We have the squre footage of the builing footprint and the squarefootage of the parcel itself, so we can calculate the percent of the parcel covered by structure by dividing ll_bldg_fo over ll_gissqft."
   ]
  },
  {
   "cell_type": "code",
   "execution_count": null,
   "metadata": {},
   "outputs": [],
   "source": [
    "mid_parcel@data$ll_bldg_fo <- as.numeric(mid_parcel@data$ll_bldg_fo)\n",
    "mid_parcel@data$ll_gissqft <- as.numeric(mid_parcel@data$ll_gissqft)\n",
    "mid_parcel@data$ll_gissqft <- as.numeric(mid_parcel@data$ll_gissqft)\n",
    "mid_parcel@data$parval <- as.numeric(mid_parcel@data$parval)\n",
    "\n",
    "mid_parcel@data$pct_struct <- mid_parcel@data$ll_bldg_fo/mid_parcel@data$ll_gissqft\n",
    "mid_parcel@data$parval_sqft <- mid_parcel@data$parval/mid_parcel@data$ll_gissqft\n",
    "\n",
    "mid_parcel@data[is.na(mid_parcel@data$pct_struct),]$pct_struct <- 0\n",
    "\n",
    "head(mid_parcel@data$pct_struct)\n",
    "head(mid_parcel@data)"
   ]
  },
  {
   "cell_type": "markdown",
   "metadata": {},
   "source": [
    "## Generate dependant variable for has structure (has_struct)\n",
    "- We know it has a structure if its building footprint is > 0"
   ]
  },
  {
   "cell_type": "code",
   "execution_count": null,
   "metadata": {},
   "outputs": [],
   "source": [
    "mid_parcel@data$has_struct <- 0\n",
    "mid_parcel@data[!is.na(mid_parcel@data$ll_bldg_fo),]$has_struct <- 1\n",
    "head(mid_parcel@data$has_struct)\n",
    "head(mid_parcel@data)"
   ]
  },
  {
   "cell_type": "markdown",
   "metadata": {},
   "source": [
    "## Add broadband availablility"
   ]
  },
  {
   "cell_type": "code",
   "execution_count": null,
   "metadata": {},
   "outputs": [],
   "source": [
    "# read in Texas broadband data\n",
    "texas_broadband <- read.csv('texas_broadband.csv')\n",
    "head(texas_broadband)"
   ]
  },
  {
   "cell_type": "code",
   "execution_count": null,
   "metadata": {},
   "outputs": [],
   "source": [
    "# subset for only recent data sence bondaries tend to change a lot\n",
    "texas_broadband2020 <- texas_broadband[texas_broadband$year == 2020,]\n",
    "head(texas_broadband2020)"
   ]
  },
  {
   "cell_type": "code",
   "execution_count": null,
   "metadata": {},
   "outputs": [],
   "source": [
    "colnames(texas_broadband2020)"
   ]
  },
  {
   "cell_type": "code",
   "execution_count": null,
   "metadata": {},
   "outputs": [],
   "source": [
    "length(texas_broadband2020$blockcode)"
   ]
  },
  {
   "cell_type": "code",
   "execution_count": null,
   "metadata": {},
   "outputs": [],
   "source": [
    "# Aggregate for max advertised upload and download speeds, as well as actual upload and download speeds for each block\n",
    "aggregateevents <- texas_broadband2020[,c('blockcode', 'maxaddown', 'maxadup')]\n",
    "\n",
    "aggregateevents <- aggregate(aggregateevents, by=list(aggregateevents$blockcode),FUN=max)\n",
    "nrow(aggregateevents)\n",
    "nrow(mid_parcel@data)\n",
    "head(aggregateevents)"
   ]
  },
  {
   "cell_type": "code",
   "execution_count": null,
   "metadata": {},
   "outputs": [],
   "source": [
    "colnames(mid_parcel@data)"
   ]
  },
  {
   "cell_type": "code",
   "execution_count": null,
   "metadata": {},
   "outputs": [],
   "source": [
    "mid_parcel@data$census_blo <- as.character(mid_parcel@data$census_blo)\n",
    "mid_parcel@data$census_blo <- as.numeric(mid_parcel@data$census_blo)\n",
    "mid_parcel@data <- merge(mid_parcel@data, aggregateevents, by.x = \"census_blo\", by.y = \"blockcode\", all.x=TRUE)\n",
    "head(mid_parcel@data)\n",
    "nrow(mid_parcel@data)"
   ]
  },
  {
   "cell_type": "code",
   "execution_count": null,
   "metadata": {},
   "outputs": [],
   "source": [
    "# clean it up a bit\n",
    "mid_parcel@data[is.na(mid_parcel@data$maxaddown),]$maxaddown <- 0\n",
    "mid_parcel@data[is.na(mid_parcel@data$maxadup),]$maxadup <- 0\n",
    "\n",
    "head(mid_parcel@data)"
   ]
  },
  {
   "cell_type": "code",
   "execution_count": null,
   "metadata": {
    "scrolled": true
   },
   "outputs": [],
   "source": [
    "mid_parcel@data[mid_parcel@data$census_blo %in% aggregateevents$blockcode,]"
   ]
  },
  {
   "cell_type": "code",
   "execution_count": null,
   "metadata": {},
   "outputs": [],
   "source": [
    "colnames(mid_parcel@data)"
   ]
  },
  {
   "cell_type": "markdown",
   "metadata": {},
   "source": [
    "## dist_shop took a while to compute. Appending at this point"
   ]
  },
  {
   "cell_type": "code",
   "execution_count": null,
   "metadata": {},
   "outputs": [],
   "source": [
    "# Distances to shops and trade was broken up into smaller segments to help with computaional waits and need to be appened\n",
    "# together to be added to mid_parcel_combined.\n",
    "\n",
    "dist_shop <- readRDS (\"dist_shop\")\n",
    "dist_shop11 <- readRDS (\"dist_shop11\")\n",
    "dist_shop12 <- readRDS (\"dist_shop12\")\n",
    "dist_shop21 <- readRDS (\"dist_shop21\")\n",
    "dist_shop22 <- readRDS (\"dist_shop22\")\n",
    "dist_shop31 <- readRDS (\"dist_shop31\")\n",
    "dist_shop32 <- readRDS (\"dist_shop32\")\n",
    "dist_shop41 <- readRDS (\"dist_shop41\")\n",
    "dist_shop42 <- readRDS (\"dist_shop42\")\n",
    "dist_shop51 <- readRDS (\"dist_shop51\")\n",
    "dist_shop52 <- readRDS (\"dist_shop52\")\n",
    "dist_shop61 <- readRDS (\"dist_shop61\")\n",
    "dist_shop62 <- readRDS (\"dist_shop62\")\n",
    "dist_shop71 <- readRDS (\"dist_shop71\")\n",
    "dist_shop72 <- readRDS (\"dist_shop72\")\n",
    "dist_shop73 <- readRDS (\"dist_shop73\")\n",
    "dist_shop74 <- readRDS (\"dist_shop74\")\n",
    "\n",
    "dist_shop <- append(dist_shop, dist_shop11)\n",
    "dist_shop <- append(dist_shop, dist_shop12)\n",
    "dist_shop <- append(dist_shop, dist_shop21)\n",
    "dist_shop <- append(dist_shop, dist_shop22)\n",
    "dist_shop <- append(dist_shop, dist_shop31)\n",
    "dist_shop <- append(dist_shop, dist_shop32)\n",
    "dist_shop <- append(dist_shop, dist_shop41)\n",
    "dist_shop <- append(dist_shop, dist_shop42)\n",
    "dist_shop <- append(dist_shop, dist_shop51)\n",
    "dist_shop <- append(dist_shop, dist_shop52)\n",
    "dist_shop <- append(dist_shop, dist_shop61)\n",
    "dist_shop <- append(dist_shop, dist_shop62)\n",
    "dist_shop <- append(dist_shop, dist_shop71)\n",
    "dist_shop <- append(dist_shop, dist_shop72)\n",
    "dist_shop <- append(dist_shop, dist_shop73)\n",
    "dist_shop <- append(dist_shop, dist_shop74)\n",
    "\n",
    "length(dist_shop)\n",
    "head(dist_shop)"
   ]
  },
  {
   "cell_type": "code",
   "execution_count": null,
   "metadata": {},
   "outputs": [],
   "source": [
    "length(unlist(dist_shop))\n",
    "nrow(mid_parcel@data)"
   ]
  },
  {
   "cell_type": "code",
   "execution_count": null,
   "metadata": {},
   "outputs": [],
   "source": [
    "mid_parcel@data$dist_shop <- unlist(dist_shop)\n",
    "head(mid_parcel@data)"
   ]
  },
  {
   "cell_type": "code",
   "execution_count": null,
   "metadata": {},
   "outputs": [],
   "source": [
    "colnames(mid_parcel@data)"
   ]
  },
  {
   "cell_type": "code",
   "execution_count": null,
   "metadata": {},
   "outputs": [],
   "source": [
    "str(mid_parcel)"
   ]
  },
  {
   "cell_type": "code",
   "execution_count": null,
   "metadata": {},
   "outputs": [],
   "source": [
    "# Save SpatialPolygonsDataFrame as RDS object for further use in R\n",
    "saveRDS(mid_parcel,\"mid_parcel_combined_rds\")"
   ]
  },
  {
   "cell_type": "code",
   "execution_count": null,
   "metadata": {},
   "outputs": [],
   "source": [
    "# write shapefile to be imported to python for further analysis\n",
    "writeOGR(mid_parcel, \".\", \"mid_parcel_combined\", driver = \"ESRI Shapefile\")"
   ]
  },
  {
   "cell_type": "code",
   "execution_count": null,
   "metadata": {},
   "outputs": [],
   "source": [
    "# test to make sure it worked\n",
    "mid_parcel_new <- readOGR(\"mid_parcel_combined\", \"mid_parcel_combined\")\n",
    "\n",
    "summary(mid_parcel_new@data)"
   ]
  },
  {
   "cell_type": "code",
   "execution_count": null,
   "metadata": {},
   "outputs": [],
   "source": [
    "head(mid_parcel_new@data)"
   ]
  },
  {
   "cell_type": "code",
   "execution_count": null,
   "metadata": {},
   "outputs": [],
   "source": [
    "colnames(mid_parcel_new@data)"
   ]
  },
  {
   "cell_type": "markdown",
   "metadata": {},
   "source": [
    "## Save the list of column names from mid_parcel@data object as csv\n",
    "- Save the list of column names from mid_parcel@data object as csv to iteratively correct names in either R or Parcel when loading new and improved shapefile (\"mid_parcel_combined\")."
   ]
  },
  {
   "cell_type": "code",
   "execution_count": null,
   "metadata": {},
   "outputs": [],
   "source": [
    "colnames(mid_parcel@data)"
   ]
  },
  {
   "cell_type": "code",
   "execution_count": null,
   "metadata": {},
   "outputs": [],
   "source": [
    "length(mid_parcel@data)"
   ]
  },
  {
   "cell_type": "code",
   "execution_count": null,
   "metadata": {},
   "outputs": [],
   "source": [
    "write.csv(colnames(mid_parcel@data), file = \"mid_parcel_combined_names.csv\")"
   ]
  },
  {
   "cell_type": "code",
   "execution_count": null,
   "metadata": {
    "scrolled": true
   },
   "outputs": [],
   "source": [
    "# test to see it worked\n",
    "mid_names <- read.csv(\"mid_parcel_combined_names.csv\", header=TRUE, stringsAsFactors=FALSE)\n",
    "mid_names"
   ]
  },
  {
   "cell_type": "markdown",
   "metadata": {},
   "source": [
    "The following cells are copy and pasted from another notebook for the sake of condensing."
   ]
  },
  {
   "cell_type": "code",
   "execution_count": null,
   "metadata": {},
   "outputs": [],
   "source": [
    "mid_parcel <- readRDS (\"mid_parcel_combined_rds\")\n",
    "head(mid_parcel)"
   ]
  },
  {
   "cell_type": "code",
   "execution_count": null,
   "metadata": {},
   "outputs": [],
   "source": [
    "# There appears to be an issue with the shiny app subsetting for NA's in our property types, so we'll give them a name (\"none\")\n",
    "mid_parcel@data$lbcs_fun_1 <- as.character(mid_parcel@data$lbcs_fun_1)\n",
    "mid_parcel@data[is.na(mid_parcel@data$lbcs_fun_1),]$lbcs_fun_1 <- \"none\"\n",
    "head(mid_parcel@data[is.na(mid_parcel@data$lbcs_fun_1),]$lbcs_fun_1)"
   ]
  },
  {
   "cell_type": "code",
   "execution_count": null,
   "metadata": {},
   "outputs": [],
   "source": [
    "head(mid_parcel@data[mid_parcel@data$lbcs_fun_1 %in% \"none\",]$lbcs_fun_1)"
   ]
  },
  {
   "cell_type": "code",
   "execution_count": null,
   "metadata": {},
   "outputs": [],
   "source": [
    "unique(mid_parcel@data$lbcs_fun_1)"
   ]
  },
  {
   "cell_type": "code",
   "execution_count": null,
   "metadata": {},
   "outputs": [],
   "source": [
    "saveRDS(mid_parcel,\"mid_parcel_combined_rds2\")"
   ]
  },
  {
   "cell_type": "code",
   "execution_count": null,
   "metadata": {},
   "outputs": [],
   "source": []
  }
 ],
 "metadata": {
  "kernelspec": {
   "display_name": "R",
   "language": "R",
   "name": "ir"
  },
  "language_info": {
   "codemirror_mode": "r",
   "file_extension": ".r",
   "mimetype": "text/x-r-source",
   "name": "R",
   "pygments_lexer": "r",
   "version": "3.5.1"
  }
 },
 "nbformat": 4,
 "nbformat_minor": 2
}
